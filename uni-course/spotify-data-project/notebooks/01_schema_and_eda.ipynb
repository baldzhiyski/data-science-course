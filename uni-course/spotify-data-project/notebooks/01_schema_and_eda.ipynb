{
 "cells": [
  {
   "cell_type": "code",
   "id": "initial_id",
   "metadata": {
    "collapsed": true
   },
   "source": [
    "import sqlite3\n",
    "\n",
    "con = sqlite3.connect('../data/spotify.sqlite')\n",
    "cur = con.cursor()\n",
    "\n",
    "rows = cur.execute('''SELECT * FROM sqlite_schema''')\n",
    "con.commit()\n",
    "\n",
    "for row in rows:\n",
    "    print(\"type:\", row[0])\n",
    "    print(\"name:\", row[1])\n",
    "    print(\"tbl_name:\", row[2])\n",
    "    print(\"rootpage:\", row[3])\n",
    "    print(\"sql:\", row[4])\n",
    "    print()\n",
    "\n",
    "con.close()\n"
   ],
   "outputs": [],
   "execution_count": null
  }
 ],
 "metadata": {
  "kernelspec": {
   "display_name": "Python 3",
   "language": "python",
   "name": "python3"
  },
  "language_info": {
   "codemirror_mode": {
    "name": "ipython",
    "version": 2
   },
   "file_extension": ".py",
   "mimetype": "text/x-python",
   "name": "python",
   "nbconvert_exporter": "python",
   "pygments_lexer": "ipython2",
   "version": "2.7.6"
  }
 },
 "nbformat": 4,
 "nbformat_minor": 5
}
