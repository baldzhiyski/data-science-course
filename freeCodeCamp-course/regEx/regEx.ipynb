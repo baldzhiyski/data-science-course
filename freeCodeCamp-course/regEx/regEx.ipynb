{
 "cells": [
  {
   "cell_type": "code",
   "id": "initial_id",
   "metadata": {
    "collapsed": true
   },
   "source": "import re",
   "outputs": [],
   "execution_count": null
  },
  {
   "metadata": {},
   "cell_type": "code",
   "source": [
    "text = \"\"\"Hello World.\n",
    "I love Python!!!!!\n",
    "My first lucky number is 987-654-321\n",
    "My second lucky number is 876-543-210\n",
    "My third lucky number is 765-432-100\n",
    "My fourth lucky number is 123-456-123-123-456\n",
    "\"\"\""
   ],
   "id": "9193d34dcaab4bb9",
   "outputs": [],
   "execution_count": null
  },
  {
   "metadata": {},
   "cell_type": "code",
   "source": "re.search(r'\\d',text)",
   "id": "e6b0deacd0d0e4ad",
   "outputs": [],
   "execution_count": null
  },
  {
   "metadata": {},
   "cell_type": "code",
   "source": "re.search(r'^hello',text,flags=re.M)",
   "id": "b41b3dd2e840458",
   "outputs": [],
   "execution_count": null
  },
  {
   "metadata": {},
   "cell_type": "markdown",
   "source": "# re.findAll()",
   "id": "6200bfcadbdb20ca"
  },
  {
   "metadata": {},
   "cell_type": "code",
   "source": "re.findall(r'\\d',text)",
   "id": "688f96255f414873",
   "outputs": [],
   "execution_count": null
  },
  {
   "metadata": {
    "ExecuteTime": {
     "end_time": "2025-10-26T14:32:01.689175Z",
     "start_time": "2025-10-26T14:32:01.683134Z"
    }
   },
   "cell_type": "code",
   "source": [
    "# Match right date format (MM-DD-YYYY)\n",
    "text = '''\n",
    "13-04-2021\n",
    "2021-13-04\n",
    "2021-04-13\n",
    "'''\n",
    "re.findall(r'\\d{2}-\\d{2}-\\d{4}', text)"
   ],
   "id": "99076499a826622f",
   "outputs": [
    {
     "data": {
      "text/plain": [
       "['13-04-2021']"
      ]
     },
     "execution_count": 8,
     "metadata": {},
     "output_type": "execute_result"
    }
   ],
   "execution_count": 8
  },
  {
   "metadata": {
    "ExecuteTime": {
     "end_time": "2025-10-26T14:32:12.094862Z",
     "start_time": "2025-10-26T14:32:12.090209Z"
    }
   },
   "cell_type": "code",
   "source": [
    "# Match right username format (4-14 characters and only letters or digits)\n",
    "text = '''\n",
    "username10\n",
    "abc\n",
    "10\n",
    "'''\n",
    "re.findall(r'[a-zA-Z0-9]{4,14}', text)"
   ],
   "id": "88599886c198a6ee",
   "outputs": [
    {
     "data": {
      "text/plain": [
       "['username10']"
      ]
     },
     "execution_count": 9,
     "metadata": {},
     "output_type": "execute_result"
    }
   ],
   "execution_count": 9
  }
 ],
 "metadata": {
  "kernelspec": {
   "display_name": "Python 3",
   "language": "python",
   "name": "python3"
  },
  "language_info": {
   "codemirror_mode": {
    "name": "ipython",
    "version": 2
   },
   "file_extension": ".py",
   "mimetype": "text/x-python",
   "name": "python",
   "nbconvert_exporter": "python",
   "pygments_lexer": "ipython2",
   "version": "2.7.6"
  }
 },
 "nbformat": 4,
 "nbformat_minor": 5
}
