{
 "cells": [
  {
   "cell_type": "code",
   "id": "db3ee280",
   "metadata": {},
   "source": [
    "import pandas as pd\n",
    "import cufflinks as cf\n",
    "from IPython.display import display, HTML\n",
    "from nltk.app.nemo_app import colors\n",
    "\n",
    "cf.set_config_file(sharing='public', theme='ggplot', offline=True)"
   ],
   "outputs": [],
   "execution_count": null
  },
  {
   "cell_type": "code",
   "id": "5210cda7",
   "metadata": {
    "scrolled": false
   },
   "source": [
    "# reading the csv file\n",
    "df_population_raw = pd.read_csv('population_total.csv')\n",
    "# dropping null values\n",
    "df_population_raw.dropna(inplace=True)\n",
    "# making a pivot table\n",
    "df_pivot = df_population_raw.pivot(index='year', columns='country',\n",
    "                                        values='population')\n",
    "# selecting some countries\n",
    "df_pivot = df_pivot[['United States', 'India', 'China', \n",
    "                          'Indonesia', 'Brazil']]\n",
    "# showing pivot table\n",
    "df_pivot"
   ],
   "outputs": [],
   "execution_count": null
  },
  {
   "cell_type": "markdown",
   "id": "4eddfee5",
   "metadata": {},
   "source": [
    "# Lineplot"
   ]
  },
  {
   "cell_type": "code",
   "id": "3f0c1e49",
   "metadata": {},
   "source": [
    "df_pivot.iplot(kind='line', xTitle='Years', yTitle='Population',\n",
    "               title='Population (1955-2020)')"
   ],
   "outputs": [],
   "execution_count": null
  },
  {
   "cell_type": "markdown",
   "id": "9931e77a",
   "metadata": {},
   "source": [
    "# Barplot"
   ]
  },
  {
   "cell_type": "code",
   "id": "48a6e884",
   "metadata": {},
   "source": [
    "# selecting only one year (2020)\n",
    "df_pivot_2020 = df_pivot[df_pivot.index.isin([2020])]\n",
    "# transpose dataframe from rows to columns or viceversa\n",
    "df_pivot_2020 = df_pivot_2020.T"
   ],
   "outputs": [],
   "execution_count": null
  },
  {
   "cell_type": "code",
   "id": "847ec9e4",
   "metadata": {},
   "source": [
    "df_pivot_2020.iplot(kind='bar', color='lightgreen',\n",
    "                    xTitle='Years', yTitle='Population')"
   ],
   "outputs": [],
   "execution_count": null
  },
  {
   "cell_type": "markdown",
   "id": "b7307fef",
   "metadata": {},
   "source": [
    "## Barplot grouped by “n” variables"
   ]
  },
  {
   "cell_type": "code",
   "id": "b4e043a6",
   "metadata": {},
   "source": [
    "# selecting a few years\n",
    "df_pivot_sample = df_pivot[df_pivot.index.isin([1980, 1990, 2000, 2010, 2020])]"
   ],
   "outputs": [],
   "execution_count": null
  },
  {
   "cell_type": "code",
   "id": "673c5ad4",
   "metadata": {},
   "source": [
    "df_pivot_sample.iplot(kind='bar')"
   ],
   "outputs": [],
   "execution_count": null
  },
  {
   "cell_type": "markdown",
   "id": "7968b9a4",
   "metadata": {},
   "source": [
    "# Piechart"
   ]
  },
  {
   "cell_type": "code",
   "id": "7bebdb83",
   "metadata": {},
   "source": [
    "# changing column name \n",
    "df_pivot_2020.rename(columns={2020:'2020'}, inplace=True)"
   ],
   "outputs": [],
   "execution_count": null
  },
  {
   "cell_type": "code",
   "id": "68c949a0",
   "metadata": {},
   "source": [
    "df_pivot_2020 = df_pivot_2020.reset_index()"
   ],
   "outputs": [],
   "execution_count": null
  },
  {
   "cell_type": "code",
   "id": "bf71522f",
   "metadata": {},
   "source": [
    "df_pivot_2020.iplot(kind='pie', values='2020', labels='country')"
   ],
   "outputs": [],
   "execution_count": null
  },
  {
   "cell_type": "markdown",
   "id": "a6f5aff6",
   "metadata": {},
   "source": [
    "# Boxplot"
   ]
  },
  {
   "cell_type": "code",
   "id": "1d0b781b",
   "metadata": {},
   "source": [
    "df_pivot['United States'].iplot(kind='box', color='green',\n",
    "                                yTitle='Population')"
   ],
   "outputs": [],
   "execution_count": null
  },
  {
   "cell_type": "code",
   "id": "828a47a5",
   "metadata": {
    "scrolled": false
   },
   "source": [
    "df_pivot.iplot(kind='box', yTitle='Population')"
   ],
   "outputs": [],
   "execution_count": null
  },
  {
   "cell_type": "markdown",
   "id": "990cb0ce",
   "metadata": {},
   "source": [
    "# Histogram"
   ]
  },
  {
   "cell_type": "code",
   "id": "d993a996",
   "metadata": {},
   "source": [
    "df_pivot[['United States', 'Indonesia']].iplot(kind='hist', xTitle='Population',\n",
    "                                bins=3)"
   ],
   "outputs": [],
   "execution_count": null
  },
  {
   "cell_type": "markdown",
   "id": "4415b9d7",
   "metadata": {},
   "source": [
    "# ScatterPlot"
   ]
  },
  {
   "cell_type": "code",
   "id": "6efa5f6e",
   "metadata": {},
   "source": [
    "df_pivot.iplot(kind='scatter', mode='markers')"
   ],
   "outputs": [],
   "execution_count": null
  }
 ],
 "metadata": {
  "kernelspec": {
   "display_name": "Python 3",
   "language": "python",
   "name": "python3"
  },
  "language_info": {
   "codemirror_mode": {
    "name": "ipython",
    "version": 3
   },
   "file_extension": ".py",
   "mimetype": "text/x-python",
   "name": "python",
   "nbconvert_exporter": "python",
   "pygments_lexer": "ipython3",
   "version": "3.8.8"
  },
  "toc": {
   "base_numbering": 1,
   "nav_menu": {},
   "number_sections": true,
   "sideBar": true,
   "skip_h1_title": false,
   "title_cell": "Table of Contents",
   "title_sidebar": "Contents",
   "toc_cell": false,
   "toc_position": {},
   "toc_section_display": true,
   "toc_window_display": false
  }
 },
 "nbformat": 4,
 "nbformat_minor": 5
}
