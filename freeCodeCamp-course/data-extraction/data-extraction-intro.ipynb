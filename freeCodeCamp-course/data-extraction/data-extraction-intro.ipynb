{
 "cells": [
  {
   "cell_type": "code",
   "id": "initial_id",
   "metadata": {
    "collapsed": true
   },
   "source": [
    "import pandas as pd\n",
    "import numpy as np"
   ],
   "outputs": [],
   "execution_count": null
  },
  {
   "metadata": {},
   "cell_type": "code",
   "source": "df_players = pd.read_csv(\"players_20.csv\")",
   "id": "1f27443ce67dd319",
   "outputs": [],
   "execution_count": null
  },
  {
   "metadata": {},
   "cell_type": "code",
   "source": "df_players.head()",
   "id": "c5bc5859b563abe7",
   "outputs": [],
   "execution_count": null
  },
  {
   "metadata": {},
   "cell_type": "code",
   "source": [
    "df_players.set_index('short_name', inplace=True)\n",
    "df_players.head()\n"
   ],
   "id": "65fa0ab00d6ddf84",
   "outputs": [],
   "execution_count": null
  },
  {
   "metadata": {},
   "cell_type": "code",
   "source": "df_players=df_players[['long_name', 'age','dob','height_cm','weight_kg','nationality','club']]\n",
   "id": "adb8edc0d9df614d",
   "outputs": [],
   "execution_count": null
  },
  {
   "metadata": {},
   "cell_type": "markdown",
   "source": "# Selecting with a single value",
   "id": "a5f1e24d4423ca36"
  },
  {
   "metadata": {},
   "cell_type": "code",
   "source": "df_players.loc['L. Messi','height_cm']",
   "id": "d89b855052956849",
   "outputs": [],
   "execution_count": null
  },
  {
   "metadata": {},
   "cell_type": "code",
   "source": "df_players.iloc[0,3]",
   "id": "8a4d79ced9f9b77d",
   "outputs": [],
   "execution_count": null
  },
  {
   "metadata": {},
   "cell_type": "code",
   "source": "df_players.loc['Cristiano Ronaldo','weight_kg']",
   "id": "c047b20b42b4e7e1",
   "outputs": [],
   "execution_count": null
  },
  {
   "metadata": {},
   "cell_type": "code",
   "source": "df_players.iloc[1,4]",
   "id": "a39daeb7612bc326",
   "outputs": [],
   "execution_count": null
  },
  {
   "metadata": {},
   "cell_type": "code",
   "source": [
    "# get all rows inside column\n",
    "df_players.loc[:,'height_cm']"
   ],
   "id": "666a6d17c6fd6c36",
   "outputs": [],
   "execution_count": null
  },
  {
   "metadata": {},
   "cell_type": "code",
   "source": "df_players.loc['L. Messi',:]",
   "id": "b7dd735132a905ff",
   "outputs": [],
   "execution_count": null
  },
  {
   "metadata": {},
   "cell_type": "markdown",
   "source": "# Selecting with a list of values",
   "id": "b7fc9ce74781699d"
  },
  {
   "metadata": {},
   "cell_type": "code",
   "source": "df_players.loc[['L. Messi','Cristiano Ronaldo']]",
   "id": "7cce279ee96328e7",
   "outputs": [],
   "execution_count": null
  },
  {
   "metadata": {},
   "cell_type": "code",
   "source": "df_players.iloc[[0,1]]",
   "id": "e8a39d2aa46aa120",
   "outputs": [],
   "execution_count": null
  },
  {
   "metadata": {},
   "cell_type": "code",
   "source": "df_players.loc[['L. Messi','Cristiano Ronaldo'],'height_cm']",
   "id": "7d5da90b1b845ae8",
   "outputs": [],
   "execution_count": null
  },
  {
   "metadata": {},
   "cell_type": "code",
   "source": "df_players.loc[['L. Messi','Cristiano Ronaldo'],['height_cm','weight_kg']]",
   "id": "3b91e4966cc6fe1d",
   "outputs": [],
   "execution_count": null
  },
  {
   "metadata": {},
   "cell_type": "code",
   "source": "df_players.iloc[[0,1],[3,4]]",
   "id": "cbdd795b079b17be",
   "outputs": [],
   "execution_count": null
  },
  {
   "metadata": {},
   "cell_type": "markdown",
   "source": "# Selecting a range of data with a slice",
   "id": "bd08538b2ce481e3"
  },
  {
   "metadata": {},
   "cell_type": "code",
   "source": [
    "# slice column labels\n",
    "\n",
    "players = ['L. Messi','Cristiano Ronaldo']\n",
    "df_players.loc[players, 'age':'club']"
   ],
   "id": "f6b2cac69da540ca",
   "outputs": [],
   "execution_count": null
  },
  {
   "metadata": {},
   "cell_type": "code",
   "source": "df_players.iloc[[0,1], 1:7]",
   "id": "5a318bd289017420",
   "outputs": [],
   "execution_count": null
  },
  {
   "metadata": {},
   "cell_type": "code",
   "source": [
    "columns = ['age','dob','height_cm','weight_kg','nationality','club']\n",
    "\n",
    "# get top1 and top10 player name\n",
    "df_players.loc['L. Messi':'M. Salah',columns]"
   ],
   "id": "dbc8a270dc78f3e",
   "outputs": [],
   "execution_count": null
  },
  {
   "metadata": {},
   "cell_type": "markdown",
   "source": "# Selecting with some condition",
   "id": "8894670f19e52b79"
  },
  {
   "metadata": {},
   "cell_type": "code",
   "source": [
    "columns = ['height_cm','weight_kg','nationality','club']\n",
    "\n",
    "df_players.loc[(df_players['height_cm']> 185) & (df_players['nationality'] == 'Argentina'), :]"
   ],
   "id": "e20b442ee49298d2",
   "outputs": [],
   "execution_count": null
  },
  {
   "metadata": {},
   "cell_type": "code",
   "source": "df_players.iloc[list(df_players['height_cm']> 185) , 1:5]",
   "id": "3e9e163cbe9d7bcf",
   "outputs": [],
   "execution_count": null
  },
  {
   "metadata": {},
   "cell_type": "code",
   "source": "df_players.iloc[list((df_players['height_cm']> 185) & (df_players['nationality'] == 'Argentina')) , 1:5]",
   "id": "ec9c8dc1879d3f77",
   "outputs": [],
   "execution_count": null
  },
  {
   "metadata": {},
   "cell_type": "markdown",
   "source": "# Set value to a cell",
   "id": "d4fc11d302697f5a"
  },
  {
   "metadata": {},
   "cell_type": "code",
   "source": [
    "# updating L. Messi height\n",
    "df_players.loc['L. Messi','height_cm'] = 175"
   ],
   "id": "4b58801cecd2dee3",
   "outputs": [],
   "execution_count": null
  },
  {
   "metadata": {},
   "cell_type": "code",
   "source": [
    "df_players.loc[:,'height_cm'] = 190\n",
    "df_players.head()"
   ],
   "id": "4d4374794f4ed611",
   "outputs": [],
   "execution_count": null
  },
  {
   "metadata": {},
   "cell_type": "markdown",
   "source": "# Set value to row",
   "id": "90ad61daf6597dca"
  },
  {
   "metadata": {},
   "cell_type": "code",
   "source": [
    "df_players.iloc[-1,:] = np.nan\n",
    "df_players.iloc[-1,:]"
   ],
   "id": "336c238411262ea0",
   "outputs": [],
   "execution_count": null
  },
  {
   "metadata": {},
   "cell_type": "markdown",
   "source": "# Set values to multiple cells",
   "id": "78503baf3027945a"
  },
  {
   "metadata": {},
   "cell_type": "code",
   "source": "df_players.loc[['L. Messi','Cristiano Ronaldo'],['height_cm']] = 177",
   "id": "c684eeb776424113",
   "outputs": [],
   "execution_count": null
  },
  {
   "metadata": {},
   "cell_type": "code",
   "source": "df_players.loc[df_players['height_cm'] > 180 ,['age','dob']] = 0",
   "id": "ec4286162ed57f1",
   "outputs": [],
   "execution_count": null
  },
  {
   "metadata": {},
   "cell_type": "code",
   "source": "df_players",
   "id": "877a06f213d7d087",
   "outputs": [],
   "execution_count": null
  },
  {
   "metadata": {},
   "cell_type": "markdown",
   "source": "# Drop a row",
   "id": "55fe14e38afd82c0"
  },
  {
   "metadata": {},
   "cell_type": "code",
   "source": [
    "df_players.drop('L. Messi',axis=0,inplace=True)\n",
    "\n",
    "df_players.drop(index=['Cristiano Ronaldo'])"
   ],
   "id": "f9de28513f0a39ed",
   "outputs": [],
   "execution_count": null
  },
  {
   "metadata": {},
   "cell_type": "code",
   "source": "df_players.drop(index=['Neymar Jr','Cristiano Ronaldo'],inplace=True)",
   "id": "f3026433092a0438",
   "outputs": [],
   "execution_count": null
  },
  {
   "metadata": {},
   "cell_type": "code",
   "source": "df_players.head()",
   "id": "d1c51c5a5b2db37e",
   "outputs": [],
   "execution_count": null
  },
  {
   "metadata": {},
   "cell_type": "markdown",
   "source": "# Drop Columns",
   "id": "b9fb2f209d0ecb6e"
  },
  {
   "metadata": {},
   "cell_type": "code",
   "source": "df_players.drop('age',axis=1,inplace=True)",
   "id": "e81b0601d858ad9",
   "outputs": [],
   "execution_count": null
  },
  {
   "metadata": {},
   "cell_type": "code",
   "source": "df_players.drop(columns=['age'],inplace=True)",
   "id": "c15d4b992bae968c",
   "outputs": [],
   "execution_count": null
  },
  {
   "metadata": {},
   "cell_type": "code",
   "source": "df_players.drop(df_players.columns[[-1]],axis=1,inplace=True)",
   "id": "cab3a5581ce539ce",
   "outputs": [],
   "execution_count": null
  },
  {
   "metadata": {},
   "cell_type": "code",
   "source": "df_players.drop(columns=['long_name','dob'],inplace=True)",
   "id": "33a152feba672cc9",
   "outputs": [],
   "execution_count": null
  },
  {
   "metadata": {},
   "cell_type": "markdown",
   "source": "# sample()",
   "id": "91ea53645c279346"
  },
  {
   "metadata": {},
   "cell_type": "code",
   "source": [
    "# extract 10 random elements from \"nationality\" column\n",
    "df_players['nationality'].sample(10,random_state=99)"
   ],
   "id": "df6a1158a2d78ae7",
   "outputs": [],
   "execution_count": null
  },
  {
   "metadata": {},
   "cell_type": "code",
   "source": [
    "# extract 20% sample of the dataframe\n",
    "df_players.sample(frac=0.2)"
   ],
   "id": "67b390ad324ee17f",
   "outputs": [],
   "execution_count": null
  },
  {
   "metadata": {},
   "cell_type": "code",
   "source": [
    "# upsample: increase the sampling rate\n",
    "\n",
    "df_players.sample(frac=2,replace=True)"
   ],
   "id": "59adc3cf6b2c211d",
   "outputs": [],
   "execution_count": null
  },
  {
   "metadata": {},
   "cell_type": "markdown",
   "source": "# query()",
   "id": "7b191354213c6476"
  },
  {
   "metadata": {},
   "cell_type": "code",
   "source": "df_players.query(\"age>34 and nationality == 'Italy'\")",
   "id": "dc54beff392689b8",
   "outputs": [],
   "execution_count": null
  },
  {
   "metadata": {},
   "cell_type": "code",
   "source": "df_players.query(\"not(age>34)\")",
   "id": "d805526b14cfa4bb",
   "outputs": [],
   "execution_count": null
  },
  {
   "metadata": {},
   "cell_type": "code",
   "source": "df_players.query(\"height_cm/100 > 1.8\")",
   "id": "5d3326aff904f5d6",
   "outputs": [],
   "execution_count": null
  },
  {
   "metadata": {},
   "cell_type": "code",
   "source": "df_players.dtypes",
   "id": "b9ac204cd9d632f1",
   "outputs": [],
   "execution_count": null
  },
  {
   "metadata": {},
   "cell_type": "code",
   "source": [
    "# check out data types\n",
    "df_players['dob'] = pd.to_datetime(df_players['dob'], errors='coerce')\n",
    "\n",
    "df_players.query(\"dob.dt.year > 1990\")"
   ],
   "id": "aa429434d51a294f",
   "outputs": [],
   "execution_count": null
  },
  {
   "metadata": {},
   "cell_type": "markdown",
   "source": "# apply()",
   "id": "4192702bbed66411"
  },
  {
   "metadata": {},
   "cell_type": "code",
   "source": "df_players['age'].apply(np.sqrt)",
   "id": "dcfaa57497801e2",
   "outputs": [],
   "execution_count": null
  },
  {
   "metadata": {},
   "cell_type": "code",
   "source": [
    "# create your own function and apply it to a dataframe\n",
    "def calculate_bmi(row):\n",
    "    return row['weight_kg']/((row['height_cm']/100)**2)\n",
    "\n",
    "df_players.apply(calculate_bmi,axis=1)"
   ],
   "id": "3c07cc3aa1d21e7e",
   "outputs": [],
   "execution_count": null
  },
  {
   "metadata": {},
   "cell_type": "markdown",
   "source": "# Lambda function + Apply",
   "id": "ff2790dc23b309cc"
  },
  {
   "metadata": {},
   "cell_type": "code",
   "source": [
    "# use lambda function to convert \"height_cm\" series to meters\n",
    "df_players['height_cm'].apply(lambda x:x/100)"
   ],
   "id": "7a63cbd5cc705c70",
   "outputs": [],
   "execution_count": null
  },
  {
   "metadata": {},
   "cell_type": "code",
   "source": [
    "# use lambda function to convert \"long_name\" series to upper case\n",
    "df_players['long_name'].apply(lambda x:x.upper())"
   ],
   "id": "c6878d68d7370dee",
   "outputs": [],
   "execution_count": null
  },
  {
   "metadata": {},
   "cell_type": "code",
   "source": "df_players['dob'].apply(lambda x:x.year)",
   "id": "dfda2784ec313a7a",
   "outputs": [],
   "execution_count": null
  },
  {
   "metadata": {},
   "cell_type": "code",
   "source": [
    "# apply lambda function to dataframe in order to calculate bmi\n",
    "df_players.apply(lambda x: x['weight_kg']/((x['height_cm']/100)**2), axis=1)"
   ],
   "id": "cd51a3b21f7510ae",
   "outputs": [],
   "execution_count": null
  },
  {
   "metadata": {},
   "cell_type": "markdown",
   "source": "# copy()",
   "id": "24ab4f7894fa3ec9"
  },
  {
   "metadata": {},
   "cell_type": "code",
   "source": "df_copy = df_players.copy()",
   "id": "4b1d35083774eca4",
   "outputs": [],
   "execution_count": null
  },
  {
   "metadata": {},
   "cell_type": "code",
   "source": "df_players.loc['L. Messi', 'height_cm'] = 180",
   "id": "415465629648e6d2",
   "outputs": [],
   "execution_count": null
  },
  {
   "metadata": {},
   "cell_type": "code",
   "source": "df_copy",
   "id": "94a6d98d6c935313",
   "outputs": [],
   "execution_count": null
  },
  {
   "metadata": {},
   "cell_type": "code",
   "source": [
    "# deep=False (Any changes to the data of the original will be reflected in the shallow copy and vice versa)\n",
    "df_shallow_copy = df_players.copy(deep=False)"
   ],
   "id": "f632fbd25e1c435b",
   "outputs": [],
   "execution_count": null
  },
  {
   "metadata": {},
   "cell_type": "code",
   "source": [
    "# update value in original dataframe\n",
    "df_players.loc['Cristiano Ronaldo', 'height_cm'] = 200"
   ],
   "id": "4d937602dd634552",
   "outputs": [],
   "execution_count": null
  },
  {
   "metadata": {},
   "cell_type": "code",
   "source": "df_shallow_copy",
   "id": "e8f627d63adfb7fa",
   "outputs": [],
   "execution_count": null
  }
 ],
 "metadata": {
  "kernelspec": {
   "display_name": "Python 3",
   "language": "python",
   "name": "python3"
  },
  "language_info": {
   "codemirror_mode": {
    "name": "ipython",
    "version": 2
   },
   "file_extension": ".py",
   "mimetype": "text/x-python",
   "name": "python",
   "nbconvert_exporter": "python",
   "pygments_lexer": "ipython2",
   "version": "2.7.6"
  }
 },
 "nbformat": 4,
 "nbformat_minor": 5
}
