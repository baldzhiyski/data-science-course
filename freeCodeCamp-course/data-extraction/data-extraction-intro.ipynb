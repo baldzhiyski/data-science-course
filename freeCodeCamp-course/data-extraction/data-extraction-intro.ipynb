{
 "cells": [
  {
   "cell_type": "code",
   "id": "initial_id",
   "metadata": {
    "collapsed": true
   },
   "source": [
    "import pandas as pd\n",
    "import numpy as np"
   ],
   "outputs": [],
   "execution_count": null
  },
  {
   "metadata": {},
   "cell_type": "code",
   "source": "df_players = pd.read_csv(\"players_20.csv\")",
   "id": "1f27443ce67dd319",
   "outputs": [],
   "execution_count": null
  },
  {
   "metadata": {},
   "cell_type": "code",
   "source": "df_players.head()",
   "id": "c5bc5859b563abe7",
   "outputs": [],
   "execution_count": null
  },
  {
   "metadata": {},
   "cell_type": "code",
   "source": [
    "df_players.set_index('short_name', inplace=True)\n",
    "df_players.head()\n"
   ],
   "id": "65fa0ab00d6ddf84",
   "outputs": [],
   "execution_count": null
  },
  {
   "metadata": {},
   "cell_type": "code",
   "source": "df_players=df_players[['long_name', 'age','dob','height_cm','weight_kg','nationality','club']]\n",
   "id": "adb8edc0d9df614d",
   "outputs": [],
   "execution_count": null
  },
  {
   "metadata": {},
   "cell_type": "markdown",
   "source": "# Selecting with a single value",
   "id": "a5f1e24d4423ca36"
  },
  {
   "metadata": {},
   "cell_type": "code",
   "source": "df_players.loc['L. Messi','height_cm']",
   "id": "d89b855052956849",
   "outputs": [],
   "execution_count": null
  },
  {
   "metadata": {},
   "cell_type": "code",
   "source": "df_players.iloc[0,3]",
   "id": "8a4d79ced9f9b77d",
   "outputs": [],
   "execution_count": null
  },
  {
   "metadata": {},
   "cell_type": "code",
   "source": "df_players.loc['Cristiano Ronaldo','weight_kg']",
   "id": "c047b20b42b4e7e1",
   "outputs": [],
   "execution_count": null
  },
  {
   "metadata": {},
   "cell_type": "code",
   "source": "df_players.iloc[1,4]",
   "id": "a39daeb7612bc326",
   "outputs": [],
   "execution_count": null
  },
  {
   "metadata": {},
   "cell_type": "code",
   "source": [
    "# get all rows inside column\n",
    "df_players.loc[:,'height_cm']"
   ],
   "id": "666a6d17c6fd6c36",
   "outputs": [],
   "execution_count": null
  },
  {
   "metadata": {},
   "cell_type": "code",
   "source": "df_players.loc['L. Messi',:]",
   "id": "b7dd735132a905ff",
   "outputs": [],
   "execution_count": null
  },
  {
   "metadata": {},
   "cell_type": "markdown",
   "source": "# Selecting with a list of values",
   "id": "b7fc9ce74781699d"
  },
  {
   "metadata": {},
   "cell_type": "code",
   "source": "df_players.loc[['L. Messi','Cristiano Ronaldo']]",
   "id": "7cce279ee96328e7",
   "outputs": [],
   "execution_count": null
  },
  {
   "metadata": {},
   "cell_type": "code",
   "source": "df_players.iloc[[0,1]]",
   "id": "e8a39d2aa46aa120",
   "outputs": [],
   "execution_count": null
  },
  {
   "metadata": {},
   "cell_type": "code",
   "source": "df_players.loc[['L. Messi','Cristiano Ronaldo'],'height_cm']",
   "id": "7d5da90b1b845ae8",
   "outputs": [],
   "execution_count": null
  },
  {
   "metadata": {},
   "cell_type": "code",
   "source": "df_players.loc[['L. Messi','Cristiano Ronaldo'],['height_cm','weight_kg']]",
   "id": "3b91e4966cc6fe1d",
   "outputs": [],
   "execution_count": null
  },
  {
   "metadata": {},
   "cell_type": "code",
   "source": "df_players.iloc[[0,1],[3,4]]",
   "id": "cbdd795b079b17be",
   "outputs": [],
   "execution_count": null
  },
  {
   "metadata": {},
   "cell_type": "markdown",
   "source": "# Selecting a range of data with a slice",
   "id": "bd08538b2ce481e3"
  },
  {
   "metadata": {},
   "cell_type": "code",
   "source": [
    "# slice column labels\n",
    "\n",
    "players = ['L. Messi','Cristiano Ronaldo']\n",
    "df_players.loc[players, 'age':'club']"
   ],
   "id": "f6b2cac69da540ca",
   "outputs": [],
   "execution_count": null
  },
  {
   "metadata": {},
   "cell_type": "code",
   "source": "df_players.iloc[[0,1], 1:7]",
   "id": "5a318bd289017420",
   "outputs": [],
   "execution_count": null
  },
  {
   "metadata": {},
   "cell_type": "code",
   "source": [
    "columns = ['age','dob','height_cm','weight_kg','nationality','club']\n",
    "\n",
    "# get top1 and top10 player name\n",
    "df_players.loc['L. Messi':'M. Salah',columns]"
   ],
   "id": "dbc8a270dc78f3e",
   "outputs": [],
   "execution_count": null
  },
  {
   "metadata": {},
   "cell_type": "markdown",
   "source": "# Selecting with some condition",
   "id": "8894670f19e52b79"
  },
  {
   "metadata": {},
   "cell_type": "code",
   "source": [
    "columns = ['height_cm','weight_kg','nationality','club']\n",
    "\n",
    "df_players.loc[(df_players['height_cm']> 185) & (df_players['nationality'] == 'Argentina'), :]"
   ],
   "id": "e20b442ee49298d2",
   "outputs": [],
   "execution_count": null
  },
  {
   "metadata": {},
   "cell_type": "code",
   "source": "df_players.iloc[list(df_players['height_cm']> 185) , 1:5]",
   "id": "3e9e163cbe9d7bcf",
   "outputs": [],
   "execution_count": null
  },
  {
   "metadata": {},
   "cell_type": "code",
   "source": "df_players.iloc[list((df_players['height_cm']> 185) & (df_players['nationality'] == 'Argentina')) , 1:5]",
   "id": "ec9c8dc1879d3f77",
   "outputs": [],
   "execution_count": null
  },
  {
   "metadata": {},
   "cell_type": "markdown",
   "source": "# Set value to a cell",
   "id": "d4fc11d302697f5a"
  },
  {
   "metadata": {},
   "cell_type": "code",
   "source": [
    "# updating L. Messi height\n",
    "df_players.loc['L. Messi','height_cm'] = 175"
   ],
   "id": "4b58801cecd2dee3",
   "outputs": [],
   "execution_count": null
  },
  {
   "metadata": {},
   "cell_type": "code",
   "source": [
    "df_players.loc[:,'height_cm'] = 190\n",
    "df_players.head()"
   ],
   "id": "4d4374794f4ed611",
   "outputs": [],
   "execution_count": null
  },
  {
   "metadata": {},
   "cell_type": "markdown",
   "source": "# Set value to row",
   "id": "90ad61daf6597dca"
  },
  {
   "metadata": {},
   "cell_type": "code",
   "source": [
    "df_players.iloc[-1,:] = np.nan\n",
    "df_players.iloc[-1,:]"
   ],
   "id": "336c238411262ea0",
   "outputs": [],
   "execution_count": null
  },
  {
   "metadata": {},
   "cell_type": "markdown",
   "source": "# Set values to multiple cells",
   "id": "78503baf3027945a"
  },
  {
   "metadata": {},
   "cell_type": "code",
   "source": "df_players.loc[['L. Messi','Cristiano Ronaldo'],['height_cm']] = 177",
   "id": "c684eeb776424113",
   "outputs": [],
   "execution_count": null
  },
  {
   "metadata": {},
   "cell_type": "code",
   "source": "df_players.loc[df_players['height_cm'] > 180 ,['age','dob']] = 0",
   "id": "ec4286162ed57f1",
   "outputs": [],
   "execution_count": null
  },
  {
   "metadata": {},
   "cell_type": "code",
   "source": "df_players",
   "id": "877a06f213d7d087",
   "outputs": [],
   "execution_count": null
  },
  {
   "metadata": {},
   "cell_type": "markdown",
   "source": "# Drop a row",
   "id": "55fe14e38afd82c0"
  },
  {
   "metadata": {},
   "cell_type": "code",
   "source": [
    "df_players.drop('L. Messi',axis=0,inplace=True)\n",
    "\n",
    "df_players.drop(index=['Cristiano Ronaldo'])"
   ],
   "id": "f9de28513f0a39ed",
   "outputs": [],
   "execution_count": null
  },
  {
   "metadata": {},
   "cell_type": "code",
   "source": "df_players.drop(index=['Neymar Jr','Cristiano Ronaldo'],inplace=True)",
   "id": "f3026433092a0438",
   "outputs": [],
   "execution_count": null
  },
  {
   "metadata": {
    "ExecuteTime": {
     "end_time": "2025-10-19T09:04:10.714036Z",
     "start_time": "2025-10-19T09:04:10.706378Z"
    }
   },
   "cell_type": "code",
   "source": "df_players.head()",
   "id": "d1c51c5a5b2db37e",
   "outputs": [
    {
     "data": {
      "text/plain": [
       "               height_cm  weight_kg  nationality\n",
       "short_name                                      \n",
       "J. Oblak           190.0       87.0     Slovenia\n",
       "E. Hazard          190.0       74.0      Belgium\n",
       "K. De Bruyne       190.0       70.0      Belgium\n",
       "M. ter Stegen      190.0       85.0      Germany\n",
       "V. van Dijk        190.0       92.0  Netherlands"
      ],
      "text/html": [
       "<div>\n",
       "<style scoped>\n",
       "    .dataframe tbody tr th:only-of-type {\n",
       "        vertical-align: middle;\n",
       "    }\n",
       "\n",
       "    .dataframe tbody tr th {\n",
       "        vertical-align: top;\n",
       "    }\n",
       "\n",
       "    .dataframe thead th {\n",
       "        text-align: right;\n",
       "    }\n",
       "</style>\n",
       "<table border=\"1\" class=\"dataframe\">\n",
       "  <thead>\n",
       "    <tr style=\"text-align: right;\">\n",
       "      <th></th>\n",
       "      <th>height_cm</th>\n",
       "      <th>weight_kg</th>\n",
       "      <th>nationality</th>\n",
       "    </tr>\n",
       "    <tr>\n",
       "      <th>short_name</th>\n",
       "      <th></th>\n",
       "      <th></th>\n",
       "      <th></th>\n",
       "    </tr>\n",
       "  </thead>\n",
       "  <tbody>\n",
       "    <tr>\n",
       "      <th>J. Oblak</th>\n",
       "      <td>190.0</td>\n",
       "      <td>87.0</td>\n",
       "      <td>Slovenia</td>\n",
       "    </tr>\n",
       "    <tr>\n",
       "      <th>E. Hazard</th>\n",
       "      <td>190.0</td>\n",
       "      <td>74.0</td>\n",
       "      <td>Belgium</td>\n",
       "    </tr>\n",
       "    <tr>\n",
       "      <th>K. De Bruyne</th>\n",
       "      <td>190.0</td>\n",
       "      <td>70.0</td>\n",
       "      <td>Belgium</td>\n",
       "    </tr>\n",
       "    <tr>\n",
       "      <th>M. ter Stegen</th>\n",
       "      <td>190.0</td>\n",
       "      <td>85.0</td>\n",
       "      <td>Germany</td>\n",
       "    </tr>\n",
       "    <tr>\n",
       "      <th>V. van Dijk</th>\n",
       "      <td>190.0</td>\n",
       "      <td>92.0</td>\n",
       "      <td>Netherlands</td>\n",
       "    </tr>\n",
       "  </tbody>\n",
       "</table>\n",
       "</div>"
      ]
     },
     "execution_count": 68,
     "metadata": {},
     "output_type": "execute_result"
    }
   ],
   "execution_count": 68
  },
  {
   "metadata": {},
   "cell_type": "markdown",
   "source": "# Drop Columns",
   "id": "b9fb2f209d0ecb6e"
  },
  {
   "metadata": {},
   "cell_type": "code",
   "source": "df_players.drop('age',axis=1,inplace=True)",
   "id": "e81b0601d858ad9",
   "outputs": [],
   "execution_count": null
  },
  {
   "metadata": {},
   "cell_type": "code",
   "source": "df_players.drop(columns=['age'],inplace=True)",
   "id": "c15d4b992bae968c",
   "outputs": [],
   "execution_count": null
  },
  {
   "metadata": {},
   "cell_type": "code",
   "source": "df_players.drop(df_players.columns[[-1]],axis=1,inplace=True)",
   "id": "cab3a5581ce539ce",
   "outputs": [],
   "execution_count": null
  },
  {
   "metadata": {
    "ExecuteTime": {
     "end_time": "2025-10-19T09:04:09.315368Z",
     "start_time": "2025-10-19T09:04:09.309688Z"
    }
   },
   "cell_type": "code",
   "source": "df_players.drop(columns=['long_name','dob'],inplace=True)",
   "id": "33a152feba672cc9",
   "outputs": [],
   "execution_count": 67
  }
 ],
 "metadata": {
  "kernelspec": {
   "display_name": "Python 3",
   "language": "python",
   "name": "python3"
  },
  "language_info": {
   "codemirror_mode": {
    "name": "ipython",
    "version": 2
   },
   "file_extension": ".py",
   "mimetype": "text/x-python",
   "name": "python",
   "nbconvert_exporter": "python",
   "pygments_lexer": "ipython2",
   "version": "2.7.6"
  }
 },
 "nbformat": 4,
 "nbformat_minor": 5
}
