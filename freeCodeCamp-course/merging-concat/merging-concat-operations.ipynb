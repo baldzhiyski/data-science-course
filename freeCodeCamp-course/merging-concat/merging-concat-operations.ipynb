{
 "cells": [
  {
   "cell_type": "code",
   "id": "initial_id",
   "metadata": {
    "collapsed": true
   },
   "source": "import pandas as pd",
   "outputs": [],
   "execution_count": null
  },
  {
   "metadata": {},
   "cell_type": "code",
   "source": [
    "df_movies = pd.read_csv('IMDb movies.csv',low_memory=False)\n",
    "df_ratings = pd.read_csv('IMDb ratings.csv')"
   ],
   "id": "2b527c90e0f5c6bc",
   "outputs": [],
   "execution_count": null
  },
  {
   "metadata": {},
   "cell_type": "code",
   "source": [
    "# select columns\n",
    "df_movies = df_movies[['imdb_title_id', 'title', 'year',\n",
    "                       'genre', 'country', 'director', 'actors']]\n",
    "\n",
    "df_ratings = df_ratings[['imdb_title_id', 'total_votes', 'mean_vote']]"
   ],
   "id": "3d4d1410cdb4e36",
   "outputs": [],
   "execution_count": null
  }
 ],
 "metadata": {
  "kernelspec": {
   "display_name": "Python 3",
   "language": "python",
   "name": "python3"
  },
  "language_info": {
   "codemirror_mode": {
    "name": "ipython",
    "version": 2
   },
   "file_extension": ".py",
   "mimetype": "text/x-python",
   "name": "python",
   "nbconvert_exporter": "python",
   "pygments_lexer": "ipython2",
   "version": "2.7.6"
  }
 },
 "nbformat": 4,
 "nbformat_minor": 5
}
