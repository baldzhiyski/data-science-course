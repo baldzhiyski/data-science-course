{
 "cells": [
  {
   "cell_type": "code",
   "id": "initial_id",
   "metadata": {
    "collapsed": true
   },
   "source": [
    "import pandas as pd\n",
    "import numpy as np\n",
    "import random\n",
    "\n",
    "df_exams = pd.read_csv('StudentsPerformance.csv')"
   ],
   "outputs": [],
   "execution_count": null
  },
  {
   "metadata": {},
   "cell_type": "markdown",
   "source": "# Adding new column",
   "id": "f62e70d2e745ed01"
  },
  {
   "metadata": {},
   "cell_type": "code",
   "source": "language_score = np.arange(0, 1000)",
   "id": "7c4ea58e1192dffc",
   "outputs": [],
   "execution_count": null
  },
  {
   "metadata": {},
   "cell_type": "code",
   "source": [
    "df_exams['language score'] = language_score\n",
    "df_exams"
   ],
   "id": "87b52542e31d4454",
   "outputs": [],
   "execution_count": null
  },
  {
   "metadata": {},
   "cell_type": "code",
   "source": [
    "# create random numbers for our new score columns\n",
    "score1 = np.random.randint(1, 100, size=1000)\n",
    "score2 = np.random.randint(1, 100, size=1000)\n",
    "\n",
    "# create a series using the random numbers\n",
    "series1 = pd.Series(score1, index=np.arange(0, 1000))\n",
    "series2 = pd.Series(score2, index=np.arange(0, 1000))\n",
    "\n",
    "# using assign() to add multiple columns\n",
    "df_exams = df_exams.assign(score1=series1, score2=series2)\n",
    "\n",
    "df_exams"
   ],
   "id": "d64cdb9b5ec77a32",
   "outputs": [],
   "execution_count": null
  },
  {
   "metadata": {},
   "cell_type": "markdown",
   "source": "## insert ()",
   "id": "f1ffd7d72966f5e8"
  },
  {
   "metadata": {},
   "cell_type": "code",
   "source": [
    "# using insert() to add a column at a specific position\n",
    "df_exams.insert(1, 'test', series1)"
   ],
   "id": "7f25a781c5ee6b5a",
   "outputs": [],
   "execution_count": null
  },
  {
   "metadata": {},
   "cell_type": "code",
   "source": "df_exams",
   "id": "d4812ed4ed5dc105",
   "outputs": [],
   "execution_count": null
  },
  {
   "metadata": {},
   "cell_type": "markdown",
   "source": "# Math Operations",
   "id": "1ceacb134d31c4ad"
  },
  {
   "metadata": {},
   "cell_type": "markdown",
   "source": "## Operations in columns",
   "id": "c6dc98d77630af7e"
  },
  {
   "metadata": {},
   "cell_type": "code",
   "source": "df_exams[\"math score\"].sum()",
   "id": "f628b1b7decd7b29",
   "outputs": [],
   "execution_count": null
  },
  {
   "metadata": {},
   "cell_type": "code",
   "source": [
    "# count, mean, std, max, and min\n",
    "df_exams['math score'].count()\n",
    "df_exams['math score'].mean()\n",
    "df_exams['math score'].std()\n",
    "df_exams['math score'].max()\n",
    "df_exams['math score'].min()"
   ],
   "id": "728a42913f52f564",
   "outputs": [],
   "execution_count": null
  },
  {
   "metadata": {},
   "cell_type": "code",
   "source": [
    "# easier calculation with .describe()\n",
    "df_exams.describe()"
   ],
   "id": "134e0a2b60a8d476",
   "outputs": [],
   "execution_count": null
  },
  {
   "metadata": {},
   "cell_type": "markdown",
   "source": "## Operations in rows",
   "id": "85b7cd3712b73aab"
  },
  {
   "metadata": {},
   "cell_type": "code",
   "source": [
    "# calculating the sum in a row\n",
    "df_exams['math score'] + df_exams['reading score'] + df_exams['writing score']"
   ],
   "id": "5e733c14c391772e",
   "outputs": [],
   "execution_count": null
  },
  {
   "metadata": {},
   "cell_type": "code",
   "source": [
    "# calculating the average score and assigning the result to a new column\n",
    "df_exams['average'] = (df_exams['math score'] + df_exams['reading score'] + df_exams['writing score'])/3\n",
    "\n",
    "df_exams"
   ],
   "id": "b937523787f64381",
   "outputs": [],
   "execution_count": null
  },
  {
   "metadata": {},
   "cell_type": "markdown",
   "source": "# Value Counts",
   "id": "f7071033ab0caec"
  },
  {
   "metadata": {},
   "cell_type": "code",
   "source": [
    "# counting gender elements\n",
    "\n",
    "# len function\n",
    "len(df_exams['gender'])\n",
    "# .count() method\n",
    "df_exams['gender'].count()"
   ],
   "id": "6868de781479f9a5",
   "outputs": [],
   "execution_count": null
  },
  {
   "metadata": {},
   "cell_type": "code",
   "source": [
    "# counting gender elements by category\n",
    "df_exams['gender'].value_counts()"
   ],
   "id": "1d57b9a516d62468",
   "outputs": [],
   "execution_count": null
  },
  {
   "metadata": {},
   "cell_type": "code",
   "source": [
    "# counting \"parental level of education\" elements by category\n",
    "df_exams['parental level of education'].value_counts()"
   ],
   "id": "a4319222e362a0c4",
   "outputs": [],
   "execution_count": null
  },
  {
   "metadata": {},
   "cell_type": "code",
   "source": [
    "\n",
    "# return the relative frequency and round to 2 decimals\n",
    "df_exams['parental level of education'].value_counts(normalize=True).round(2)"
   ],
   "id": "fee8037f0ff71a37",
   "outputs": [],
   "execution_count": null
  },
  {
   "metadata": {},
   "cell_type": "markdown",
   "source": "# Sorting a dataframe",
   "id": "e7a116e7eef56faf"
  },
  {
   "metadata": {},
   "cell_type": "code",
   "source": "df_exams.sort_values(\"math score\")",
   "id": "3fd962d99aae7aab",
   "outputs": [],
   "execution_count": null
  },
  {
   "metadata": {},
   "cell_type": "code",
   "source": [
    "# sort descending by multiple columns\n",
    "df_exams.sort_values(['math score', 'reading score'], ascending=False)"
   ],
   "id": "3100204fa0ef91b",
   "outputs": [],
   "execution_count": null
  },
  {
   "metadata": {},
   "cell_type": "code",
   "source": [
    "# sort descending with a key function\n",
    "df_exams.sort_values(['race/ethnicity'], ascending=True, key=lambda a:a.str.lower())"
   ],
   "id": "d9befff55fbe0363",
   "outputs": [],
   "execution_count": null
  },
  {
   "metadata": {},
   "cell_type": "markdown",
   "source": "# Index Creation",
   "id": "5e5d6d9a8fe15a89"
  },
  {
   "metadata": {},
   "cell_type": "code",
   "source": [
    "# creating non repetitive values for the index\n",
    "new_index = np.arange(0, 1000)\n",
    "new_index"
   ],
   "id": "3dc09bfe39339cee",
   "outputs": [],
   "execution_count": null
  },
  {
   "metadata": {},
   "cell_type": "code",
   "source": [
    "# shuffling the indexes\n",
    "random.shuffle(new_index)\n",
    "new_index"
   ],
   "id": "d38f0b8bcf41cd36",
   "outputs": [],
   "execution_count": null
  },
  {
   "metadata": {},
   "cell_type": "code",
   "source": [
    "# create a new column with new index\n",
    "df_exams['new_index'] = new_index\n",
    "# create a new column with new index\n",
    "df_exams['new_index'] = new_index\n",
    "\n",
    "df_exams"
   ],
   "id": "630a2f460841e16d",
   "outputs": [],
   "execution_count": null
  },
  {
   "metadata": {},
   "cell_type": "code",
   "source": "df_exams.sort_index()",
   "id": "b65bad14c975f2e9",
   "outputs": [],
   "execution_count": null
  },
  {
   "metadata": {},
   "cell_type": "markdown",
   "source": "# Rename Columns",
   "id": "b523e29c05fe3a3c"
  },
  {
   "metadata": {},
   "cell_type": "code",
   "source": "df_exams.rename(columns={\"gender\":\"Gender\"})",
   "id": "7cddab33d29e04dc",
   "outputs": [],
   "execution_count": null
  },
  {
   "metadata": {},
   "cell_type": "code",
   "source": [
    "# rename multiple columns and update the dataframe with inplace parameter\n",
    "df_exams.rename(columns={'math score':'MS', 'reading score':'RS', 'writing score':'WS'}, inplace=True)"
   ],
   "id": "a2f8d7982a4bf1e2",
   "outputs": [],
   "execution_count": null
  },
  {
   "metadata": {},
   "cell_type": "code",
   "source": "df_exams.head()",
   "id": "256ba8d7540922f1",
   "outputs": [],
   "execution_count": null
  },
  {
   "metadata": {},
   "cell_type": "markdown",
   "source": "# Rename Index",
   "id": "d66ecde434045750"
  },
  {
   "metadata": {},
   "cell_type": "code",
   "source": [
    "# rename index 0, 1 and 2 and update the dataframe\n",
    "df_exams.rename(index={0:'A', 1:'B', 2:'C'}, inplace=True)"
   ],
   "id": "8a57d3291936fed5",
   "outputs": [],
   "execution_count": null
  },
  {
   "metadata": {},
   "cell_type": "code",
   "source": [
    "# show first 3 rows\n",
    "df_exams.head(3)"
   ],
   "id": "973c4a215058a8e9",
   "outputs": [],
   "execution_count": null
  }
 ],
 "metadata": {
  "kernelspec": {
   "display_name": "Python 3",
   "language": "python",
   "name": "python3"
  },
  "language_info": {
   "codemirror_mode": {
    "name": "ipython",
    "version": 2
   },
   "file_extension": ".py",
   "mimetype": "text/x-python",
   "name": "python",
   "nbconvert_exporter": "python",
   "pygments_lexer": "ipython2",
   "version": "2.7.6"
  }
 },
 "nbformat": 4,
 "nbformat_minor": 5
}
