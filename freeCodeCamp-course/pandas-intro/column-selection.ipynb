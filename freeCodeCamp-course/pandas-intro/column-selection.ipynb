{
 "cells": [
  {
   "cell_type": "code",
   "id": "initial_id",
   "metadata": {
    "collapsed": true
   },
   "source": [
    "import pandas as pd\n",
    "# reading the csv file\n",
    "df_exams = pd.read_csv('StudentsPerformance.csv')\n",
    "df_exams.head()"
   ],
   "outputs": [],
   "execution_count": null
  },
  {
   "metadata": {},
   "cell_type": "markdown",
   "source": "# Selecting one column",
   "id": "da92b4cf8d1c8ab"
  },
  {
   "metadata": {},
   "cell_type": "markdown",
   "source": "## Syntax 1",
   "id": "984a22e32200ac23"
  },
  {
   "metadata": {},
   "cell_type": "code",
   "source": "col = df_exams[\"gender\"]",
   "id": "a0a8fd1d5e3b22a1",
   "outputs": [],
   "execution_count": null
  },
  {
   "metadata": {},
   "cell_type": "code",
   "source": [
    "# series: attributes and methods\n",
    "col.index\n",
    "col.head()"
   ],
   "id": "8c263d73558cb5e5",
   "outputs": [],
   "execution_count": null
  },
  {
   "metadata": {},
   "cell_type": "markdown",
   "source": "## Syntax 2",
   "id": "74c4d105fcef0769"
  },
  {
   "metadata": {},
   "cell_type": "code",
   "source": [
    "# select a column with .\n",
    "df_exams.gender"
   ],
   "id": "31f5b3f9d270c2bb",
   "outputs": [],
   "execution_count": null
  },
  {
   "metadata": {},
   "cell_type": "code",
   "source": [
    "# select the same column using [] , we cannot use dot here\n",
    "df_exams[\"math score\"]"
   ],
   "id": "5d7de448ae2ae2b",
   "outputs": [],
   "execution_count": null
  },
  {
   "metadata": {},
   "cell_type": "markdown",
   "source": "# More Columns selection",
   "id": "5e6b75f30e43aab4"
  },
  {
   "metadata": {},
   "cell_type": "code",
   "source": [
    "# select 2 columns using [[]]\n",
    "df_exams[['gender', 'math score']]"
   ],
   "id": "ec55cd5f210abc2c",
   "outputs": [],
   "execution_count": null
  },
  {
   "metadata": {},
   "cell_type": "code",
   "source": [
    "# select 2 or more columns using [[]]\n",
    "df_exams[['gender', 'math score', 'reading score', 'writing score']]"
   ],
   "id": "21ae5505aad70165",
   "outputs": [],
   "execution_count": null
  }
 ],
 "metadata": {
  "kernelspec": {
   "display_name": "Python 3",
   "language": "python",
   "name": "python3"
  },
  "language_info": {
   "codemirror_mode": {
    "name": "ipython",
    "version": 2
   },
   "file_extension": ".py",
   "mimetype": "text/x-python",
   "name": "python",
   "nbconvert_exporter": "python",
   "pygments_lexer": "ipython2",
   "version": "2.7.6"
  }
 },
 "nbformat": 4,
 "nbformat_minor": 5
}
