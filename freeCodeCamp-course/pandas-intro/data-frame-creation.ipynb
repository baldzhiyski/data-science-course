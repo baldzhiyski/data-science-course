{
 "cells": [
  {
   "cell_type": "code",
   "id": "initial_id",
   "metadata": {
    "collapsed": true
   },
   "source": [
    "import pandas as pd\n",
    "import numpy as np"
   ],
   "outputs": [],
   "execution_count": null
  },
  {
   "metadata": {},
   "cell_type": "markdown",
   "source": "# Creating a data frame",
   "id": "fe7e62119a965660"
  },
  {
   "metadata": {},
   "cell_type": "markdown",
   "source": "##  Option 1",
   "id": "20937941b3b40b60"
  },
  {
   "metadata": {},
   "cell_type": "code",
   "source": [
    "# creating an array\n",
    "data = np.array([[1,4],[2,5],[2,6]])"
   ],
   "id": "9a92bd28bc3c767c",
   "outputs": [],
   "execution_count": null
  },
  {
   "metadata": {},
   "cell_type": "code",
   "source": [
    "# creating dataframe\n",
    "df = pd.DataFrame(data=data,index=['a','b','c'])\n",
    "\n",
    "df['test_col'] = df[0] + df[1]\n",
    "\n",
    "df.head()"
   ],
   "id": "1ec986ac74650e4f",
   "outputs": [],
   "execution_count": null
  },
  {
   "metadata": {},
   "cell_type": "markdown",
   "source": "## Option 2",
   "id": "7eca2bb8b99466d7"
  },
  {
   "metadata": {},
   "cell_type": "code",
   "source": [
    "# creating an array with list shape\n",
    "data = [[1, 4], [2, 5], [3, 6]]"
   ],
   "id": "68180ca5f9906513",
   "outputs": [],
   "execution_count": null
  },
  {
   "metadata": {},
   "cell_type": "code",
   "source": [
    "# creating a dataframe\n",
    "df = pd.DataFrame(data, index=['row1', 'row2', 'row3'],\n",
    "                 columns=['col1', 'col2'])"
   ],
   "id": "f9be04d55f96b298",
   "outputs": [],
   "execution_count": null
  },
  {
   "metadata": {},
   "cell_type": "code",
   "source": "df.head()",
   "id": "9561aa833d06cf1f",
   "outputs": [],
   "execution_count": null
  },
  {
   "metadata": {},
   "cell_type": "markdown",
   "source": "# Creating a DataFrame from a dictionary",
   "id": "b5eca0198a184bf1"
  },
  {
   "metadata": {},
   "cell_type": "code",
   "source": [
    "# lists used for this example\n",
    "states = [\"California\", \"Texas\", \"Florida\", \"New York\"]\n",
    "population = [39613493, 29730311, 21944577, 19299981]"
   ],
   "id": "53b94e49f21bdbb3",
   "outputs": [],
   "execution_count": null
  },
  {
   "metadata": {},
   "cell_type": "code",
   "source": [
    "# Storing lists within a dictionary\n",
    "dict_states = {'States': states, 'Population': population}"
   ],
   "id": "515f45256c26f147",
   "outputs": [],
   "execution_count": null
  },
  {
   "metadata": {},
   "cell_type": "code",
   "source": [
    "# Creating the dataframe\n",
    "pd.DataFrame(dict_states)\n",
    "# df_population = pd.DataFrame.from_dict(dict_states)"
   ],
   "id": "8c56645491962460",
   "outputs": [],
   "execution_count": null
  },
  {
   "metadata": {},
   "cell_type": "markdown",
   "source": "# Creating a DataFrame from a csv file\n",
   "id": "7ebf10d238d06bd"
  },
  {
   "metadata": {},
   "cell_type": "code",
   "source": "pd.read_csv('StudentsPerformance.csv')",
   "id": "39b30eecd9271b2",
   "outputs": [],
   "execution_count": null
  }
 ],
 "metadata": {
  "kernelspec": {
   "display_name": "Python 3",
   "language": "python",
   "name": "python3"
  },
  "language_info": {
   "codemirror_mode": {
    "name": "ipython",
    "version": 2
   },
   "file_extension": ".py",
   "mimetype": "text/x-python",
   "name": "python",
   "nbconvert_exporter": "python",
   "pygments_lexer": "ipython2",
   "version": "2.7.6"
  }
 },
 "nbformat": 4,
 "nbformat_minor": 5
}
