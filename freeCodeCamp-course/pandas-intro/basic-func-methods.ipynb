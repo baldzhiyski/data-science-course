{
 "cells": [
  {
   "metadata": {},
   "cell_type": "code",
   "source": "import pandas as pd",
   "id": "eee607771d6d3d87",
   "outputs": [],
   "execution_count": null
  },
  {
   "metadata": {},
   "cell_type": "code",
   "source": "df_exams = pd.read_csv('StudentsPerformance.csv')",
   "id": "734b0a9f7b34eb0e",
   "outputs": [],
   "execution_count": null
  },
  {
   "metadata": {},
   "cell_type": "markdown",
   "source": "# Attributes",
   "id": "53b2fca831a52923"
  },
  {
   "metadata": {},
   "cell_type": "code",
   "source": "df_exams.shape",
   "id": "e9531aa469bd33a0",
   "outputs": [],
   "execution_count": null
  },
  {
   "metadata": {},
   "cell_type": "code",
   "source": [
    "# getting access to the index attribute\n",
    "df_exams.index"
   ],
   "id": "b6520ac94ee2c723",
   "outputs": [],
   "execution_count": null
  },
  {
   "metadata": {},
   "cell_type": "code",
   "source": [
    "# data types of each column\n",
    "df_exams.dtypes"
   ],
   "id": "259da872c79d5084",
   "outputs": [],
   "execution_count": null
  },
  {
   "metadata": {},
   "cell_type": "markdown",
   "source": "# Methods",
   "id": "411fe954f6d346be"
  },
  {
   "metadata": {},
   "cell_type": "code",
   "source": [
    "# showing the first 5 columns\n",
    "df_exams.head()"
   ],
   "id": "37a490f00e57a2c6",
   "outputs": [],
   "execution_count": null
  },
  {
   "metadata": {},
   "cell_type": "code",
   "source": "df_exams.info()",
   "id": "5f5de00dd6312eb6",
   "outputs": [],
   "execution_count": null
  },
  {
   "metadata": {},
   "cell_type": "code",
   "source": [
    "# describing basic statistics of the dataframe\n",
    "df_exams.describe()"
   ],
   "id": "a74965843ed28c97",
   "outputs": [],
   "execution_count": null
  },
  {
   "metadata": {},
   "cell_type": "markdown",
   "source": "# Functions",
   "id": "bb6bc0d813e414f4"
  },
  {
   "metadata": {},
   "cell_type": "code",
   "source": "len(df_exams)",
   "id": "9a17ddb7742d9de4",
   "outputs": [],
   "execution_count": null
  },
  {
   "metadata": {},
   "cell_type": "code",
   "source": [
    "# rounding the values of the dataset\n",
    "round(df_exams, 2)"
   ],
   "id": "e90b7e733969d16a",
   "outputs": [],
   "execution_count": null
  }
 ],
 "metadata": {
  "kernelspec": {
   "display_name": "Python 3",
   "language": "python",
   "name": "python3"
  },
  "language_info": {
   "codemirror_mode": {
    "name": "ipython",
    "version": 2
   },
   "file_extension": ".py",
   "mimetype": "text/x-python",
   "name": "python",
   "nbconvert_exporter": "python",
   "pygments_lexer": "ipython2",
   "version": "2.7.6"
  }
 },
 "nbformat": 4,
 "nbformat_minor": 5
}
