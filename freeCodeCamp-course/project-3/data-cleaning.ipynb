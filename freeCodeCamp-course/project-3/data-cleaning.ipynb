{
 "cells": [
  {
   "cell_type": "code",
   "id": "initial_id",
   "metadata": {
    "collapsed": true,
    "ExecuteTime": {
     "end_time": "2025-10-26T15:10:31.231443Z",
     "start_time": "2025-10-26T15:10:31.228197Z"
    }
   },
   "source": [
    "from sys import flags\n",
    "\n",
    "import pandas as pd\n",
    "import matplotlib.pyplot as plt"
   ],
   "outputs": [],
   "execution_count": 66
  },
  {
   "metadata": {},
   "cell_type": "markdown",
   "source": "# Dataset Overview",
   "id": "304a6f2d5cef74"
  },
  {
   "metadata": {
    "ExecuteTime": {
     "end_time": "2025-10-26T15:10:31.306145Z",
     "start_time": "2025-10-26T15:10:31.242517Z"
    }
   },
   "cell_type": "code",
   "source": [
    "df_titles= pd.read_csv('netflix_titles.csv')\n",
    "df_titles.head()"
   ],
   "id": "5f6a21d530221be1",
   "outputs": [
    {
     "data": {
      "text/plain": [
       "  show_id     type                  title         director  \\\n",
       "0      s1    Movie   Dick Johnson Is Dead  Kirsten Johnson   \n",
       "1      s2  TV Show          Blood & Water              NaN   \n",
       "2      s3  TV Show              Ganglands  Julien Leclercq   \n",
       "3      s4  TV Show  Jailbirds New Orleans              NaN   \n",
       "4      s5  TV Show           Kota Factory              NaN   \n",
       "\n",
       "                                                cast        country  \\\n",
       "0                                                NaN  United States   \n",
       "1  Ama Qamata, Khosi Ngema, Gail Mabalane, Thaban...   South Africa   \n",
       "2  Sami Bouajila, Tracy Gotoas, Samuel Jouy, Nabi...            NaN   \n",
       "3                                                NaN            NaN   \n",
       "4  Mayur More, Jitendra Kumar, Ranjan Raj, Alam K...          India   \n",
       "\n",
       "           date_added  release_year rating   duration  \\\n",
       "0  September 25, 2021          2020  PG-13     90 min   \n",
       "1  September 24, 2021          2021  TV-MA  2 Seasons   \n",
       "2  September 24, 2021          2021  TV-MA   1 Season   \n",
       "3  September 24, 2021          2021  TV-MA   1 Season   \n",
       "4  September 24, 2021          2021  TV-MA  2 Seasons   \n",
       "\n",
       "                                           listed_in  \\\n",
       "0                                      Documentaries   \n",
       "1    International TV Shows, TV Dramas, TV Mysteries   \n",
       "2  Crime TV Shows, International TV Shows, TV Act...   \n",
       "3                             Docuseries, Reality TV   \n",
       "4  International TV Shows, Romantic TV Shows, TV ...   \n",
       "\n",
       "                                         description  \n",
       "0  As her father nears the end of his life, filmm...  \n",
       "1  After crossing paths at a party, a Cape Town t...  \n",
       "2  To protect his family from a powerful drug lor...  \n",
       "3  Feuds, flirtations and toilet talk go down amo...  \n",
       "4  In a city of coaching centers known to train I...  "
      ],
      "text/html": [
       "<div>\n",
       "<style scoped>\n",
       "    .dataframe tbody tr th:only-of-type {\n",
       "        vertical-align: middle;\n",
       "    }\n",
       "\n",
       "    .dataframe tbody tr th {\n",
       "        vertical-align: top;\n",
       "    }\n",
       "\n",
       "    .dataframe thead th {\n",
       "        text-align: right;\n",
       "    }\n",
       "</style>\n",
       "<table border=\"1\" class=\"dataframe\">\n",
       "  <thead>\n",
       "    <tr style=\"text-align: right;\">\n",
       "      <th></th>\n",
       "      <th>show_id</th>\n",
       "      <th>type</th>\n",
       "      <th>title</th>\n",
       "      <th>director</th>\n",
       "      <th>cast</th>\n",
       "      <th>country</th>\n",
       "      <th>date_added</th>\n",
       "      <th>release_year</th>\n",
       "      <th>rating</th>\n",
       "      <th>duration</th>\n",
       "      <th>listed_in</th>\n",
       "      <th>description</th>\n",
       "    </tr>\n",
       "  </thead>\n",
       "  <tbody>\n",
       "    <tr>\n",
       "      <th>0</th>\n",
       "      <td>s1</td>\n",
       "      <td>Movie</td>\n",
       "      <td>Dick Johnson Is Dead</td>\n",
       "      <td>Kirsten Johnson</td>\n",
       "      <td>NaN</td>\n",
       "      <td>United States</td>\n",
       "      <td>September 25, 2021</td>\n",
       "      <td>2020</td>\n",
       "      <td>PG-13</td>\n",
       "      <td>90 min</td>\n",
       "      <td>Documentaries</td>\n",
       "      <td>As her father nears the end of his life, filmm...</td>\n",
       "    </tr>\n",
       "    <tr>\n",
       "      <th>1</th>\n",
       "      <td>s2</td>\n",
       "      <td>TV Show</td>\n",
       "      <td>Blood &amp; Water</td>\n",
       "      <td>NaN</td>\n",
       "      <td>Ama Qamata, Khosi Ngema, Gail Mabalane, Thaban...</td>\n",
       "      <td>South Africa</td>\n",
       "      <td>September 24, 2021</td>\n",
       "      <td>2021</td>\n",
       "      <td>TV-MA</td>\n",
       "      <td>2 Seasons</td>\n",
       "      <td>International TV Shows, TV Dramas, TV Mysteries</td>\n",
       "      <td>After crossing paths at a party, a Cape Town t...</td>\n",
       "    </tr>\n",
       "    <tr>\n",
       "      <th>2</th>\n",
       "      <td>s3</td>\n",
       "      <td>TV Show</td>\n",
       "      <td>Ganglands</td>\n",
       "      <td>Julien Leclercq</td>\n",
       "      <td>Sami Bouajila, Tracy Gotoas, Samuel Jouy, Nabi...</td>\n",
       "      <td>NaN</td>\n",
       "      <td>September 24, 2021</td>\n",
       "      <td>2021</td>\n",
       "      <td>TV-MA</td>\n",
       "      <td>1 Season</td>\n",
       "      <td>Crime TV Shows, International TV Shows, TV Act...</td>\n",
       "      <td>To protect his family from a powerful drug lor...</td>\n",
       "    </tr>\n",
       "    <tr>\n",
       "      <th>3</th>\n",
       "      <td>s4</td>\n",
       "      <td>TV Show</td>\n",
       "      <td>Jailbirds New Orleans</td>\n",
       "      <td>NaN</td>\n",
       "      <td>NaN</td>\n",
       "      <td>NaN</td>\n",
       "      <td>September 24, 2021</td>\n",
       "      <td>2021</td>\n",
       "      <td>TV-MA</td>\n",
       "      <td>1 Season</td>\n",
       "      <td>Docuseries, Reality TV</td>\n",
       "      <td>Feuds, flirtations and toilet talk go down amo...</td>\n",
       "    </tr>\n",
       "    <tr>\n",
       "      <th>4</th>\n",
       "      <td>s5</td>\n",
       "      <td>TV Show</td>\n",
       "      <td>Kota Factory</td>\n",
       "      <td>NaN</td>\n",
       "      <td>Mayur More, Jitendra Kumar, Ranjan Raj, Alam K...</td>\n",
       "      <td>India</td>\n",
       "      <td>September 24, 2021</td>\n",
       "      <td>2021</td>\n",
       "      <td>TV-MA</td>\n",
       "      <td>2 Seasons</td>\n",
       "      <td>International TV Shows, Romantic TV Shows, TV ...</td>\n",
       "      <td>In a city of coaching centers known to train I...</td>\n",
       "    </tr>\n",
       "  </tbody>\n",
       "</table>\n",
       "</div>"
      ]
     },
     "execution_count": 67,
     "metadata": {},
     "output_type": "execute_result"
    }
   ],
   "execution_count": 67
  },
  {
   "metadata": {
    "ExecuteTime": {
     "end_time": "2025-10-26T15:10:31.323854Z",
     "start_time": "2025-10-26T15:10:31.316566Z"
    }
   },
   "cell_type": "code",
   "source": "df_titles.dtypes",
   "id": "65c81bf8d910a16d",
   "outputs": [
    {
     "data": {
      "text/plain": [
       "show_id         object\n",
       "type            object\n",
       "title           object\n",
       "director        object\n",
       "cast            object\n",
       "country         object\n",
       "date_added      object\n",
       "release_year     int64\n",
       "rating          object\n",
       "duration        object\n",
       "listed_in       object\n",
       "description     object\n",
       "dtype: object"
      ]
     },
     "execution_count": 68,
     "metadata": {},
     "output_type": "execute_result"
    }
   ],
   "execution_count": 68
  },
  {
   "metadata": {
    "ExecuteTime": {
     "end_time": "2025-10-26T15:10:31.344259Z",
     "start_time": "2025-10-26T15:10:31.338654Z"
    }
   },
   "cell_type": "code",
   "source": "df_titles.shape",
   "id": "62154dfeaf9bfd38",
   "outputs": [
    {
     "data": {
      "text/plain": [
       "(8807, 12)"
      ]
     },
     "execution_count": 69,
     "metadata": {},
     "output_type": "execute_result"
    }
   ],
   "execution_count": 69
  },
  {
   "metadata": {},
   "cell_type": "markdown",
   "source": "# Identifying missing data",
   "id": "f7c48d4e8a966acd"
  },
  {
   "metadata": {
    "ExecuteTime": {
     "end_time": "2025-10-26T15:10:31.370752Z",
     "start_time": "2025-10-26T15:10:31.359598Z"
    }
   },
   "cell_type": "code",
   "source": "df_titles.isnull().sum().sort_values(ascending=False)",
   "id": "8e66755a97c15419",
   "outputs": [
    {
     "data": {
      "text/plain": [
       "director        2634\n",
       "country          831\n",
       "cast             825\n",
       "date_added        10\n",
       "rating             4\n",
       "duration           3\n",
       "show_id            0\n",
       "type               0\n",
       "title              0\n",
       "release_year       0\n",
       "listed_in          0\n",
       "description        0\n",
       "dtype: int64"
      ]
     },
     "execution_count": 70,
     "metadata": {},
     "output_type": "execute_result"
    }
   ],
   "execution_count": 70
  },
  {
   "metadata": {
    "ExecuteTime": {
     "end_time": "2025-10-26T15:10:31.402444Z",
     "start_time": "2025-10-26T15:10:31.387633Z"
    }
   },
   "cell_type": "code",
   "source": [
    "# % of rows missing in each column\n",
    "for column in df_titles.columns:\n",
    "    percentage = df_titles[column].isnull().mean() * 100\n",
    "    print(f\"{column}: {percentage:.2f}% missing\")"
   ],
   "id": "fc0238695e54e306",
   "outputs": [
    {
     "name": "stdout",
     "output_type": "stream",
     "text": [
      "show_id: 0.00% missing\n",
      "type: 0.00% missing\n",
      "title: 0.00% missing\n",
      "director: 29.91% missing\n",
      "cast: 9.37% missing\n",
      "country: 9.44% missing\n",
      "date_added: 0.11% missing\n",
      "release_year: 0.00% missing\n",
      "rating: 0.05% missing\n",
      "duration: 0.03% missing\n",
      "listed_in: 0.00% missing\n",
      "description: 0.00% missing\n"
     ]
    }
   ],
   "execution_count": 71
  },
  {
   "metadata": {},
   "cell_type": "markdown",
   "source": "# Dealing with missing data",
   "id": "bc433a9f21a307aa"
  },
  {
   "metadata": {
    "ExecuteTime": {
     "end_time": "2025-10-26T15:10:31.431789Z",
     "start_time": "2025-10-26T15:10:31.420875Z"
    }
   },
   "cell_type": "code",
   "source": [
    "df_titles.drop('director',axis=1)\n",
    "\n",
    "no_director_indices = df_titles[df_titles['director'].isnull()].index\n",
    "\n",
    "df_titles.drop(no_director_indices, axis=0,inplace=True)\n"
   ],
   "id": "760fa11a5f143857",
   "outputs": [],
   "execution_count": 72
  },
  {
   "metadata": {
    "ExecuteTime": {
     "end_time": "2025-10-26T15:10:31.456971Z",
     "start_time": "2025-10-26T15:10:31.443550Z"
    }
   },
   "cell_type": "code",
   "source": [
    "\n",
    "# Replace it by the mean, median (numeric data) or mode (categorical data)\n",
    "df_titles[df_titles['rating'].isnull()]"
   ],
   "id": "5a1cf914df5b6d77",
   "outputs": [
    {
     "data": {
      "text/plain": [
       "     show_id   type                 title         director  \\\n",
       "7537   s7538  Movie  My Honor Was Loyalty  Alessandro Pepe   \n",
       "\n",
       "                                                   cast country  \\\n",
       "7537  Leone Frisa, Paolo Vaccarino, Francesco Miglio...   Italy   \n",
       "\n",
       "         date_added  release_year rating duration listed_in  \\\n",
       "7537  March 1, 2017          2015    NaN  115 min    Dramas   \n",
       "\n",
       "                                            description  \n",
       "7537  Amid the chaos and horror of World War II, a c...  "
      ],
      "text/html": [
       "<div>\n",
       "<style scoped>\n",
       "    .dataframe tbody tr th:only-of-type {\n",
       "        vertical-align: middle;\n",
       "    }\n",
       "\n",
       "    .dataframe tbody tr th {\n",
       "        vertical-align: top;\n",
       "    }\n",
       "\n",
       "    .dataframe thead th {\n",
       "        text-align: right;\n",
       "    }\n",
       "</style>\n",
       "<table border=\"1\" class=\"dataframe\">\n",
       "  <thead>\n",
       "    <tr style=\"text-align: right;\">\n",
       "      <th></th>\n",
       "      <th>show_id</th>\n",
       "      <th>type</th>\n",
       "      <th>title</th>\n",
       "      <th>director</th>\n",
       "      <th>cast</th>\n",
       "      <th>country</th>\n",
       "      <th>date_added</th>\n",
       "      <th>release_year</th>\n",
       "      <th>rating</th>\n",
       "      <th>duration</th>\n",
       "      <th>listed_in</th>\n",
       "      <th>description</th>\n",
       "    </tr>\n",
       "  </thead>\n",
       "  <tbody>\n",
       "    <tr>\n",
       "      <th>7537</th>\n",
       "      <td>s7538</td>\n",
       "      <td>Movie</td>\n",
       "      <td>My Honor Was Loyalty</td>\n",
       "      <td>Alessandro Pepe</td>\n",
       "      <td>Leone Frisa, Paolo Vaccarino, Francesco Miglio...</td>\n",
       "      <td>Italy</td>\n",
       "      <td>March 1, 2017</td>\n",
       "      <td>2015</td>\n",
       "      <td>NaN</td>\n",
       "      <td>115 min</td>\n",
       "      <td>Dramas</td>\n",
       "      <td>Amid the chaos and horror of World War II, a c...</td>\n",
       "    </tr>\n",
       "  </tbody>\n",
       "</table>\n",
       "</div>"
      ]
     },
     "execution_count": 73,
     "metadata": {},
     "output_type": "execute_result"
    }
   ],
   "execution_count": 73
  },
  {
   "metadata": {
    "ExecuteTime": {
     "end_time": "2025-10-26T15:10:31.494325Z",
     "start_time": "2025-10-26T15:10:31.487843Z"
    }
   },
   "cell_type": "code",
   "source": [
    "mode = ''.join(df_titles['rating'].mode())\n",
    "df_titles['rating']=df_titles['rating'].fillna(mode)\n"
   ],
   "id": "6922444f144144",
   "outputs": [],
   "execution_count": 74
  },
  {
   "metadata": {
    "ExecuteTime": {
     "end_time": "2025-10-26T15:10:31.514821Z",
     "start_time": "2025-10-26T15:10:31.508872Z"
    }
   },
   "cell_type": "code",
   "source": "df_titles.loc[5541]",
   "id": "90e4ec10ba609a3e",
   "outputs": [
    {
     "data": {
      "text/plain": [
       "show_id                                                     s5542\n",
       "type                                                        Movie\n",
       "title                                             Louis C.K. 2017\n",
       "director                                               Louis C.K.\n",
       "cast                                                   Louis C.K.\n",
       "country                                             United States\n",
       "date_added                                          April 4, 2017\n",
       "release_year                                                 2017\n",
       "rating                                                     74 min\n",
       "duration                                                      NaN\n",
       "listed_in                                                  Movies\n",
       "description     Louis C.K. muses on religion, eternal love, gi...\n",
       "Name: 5541, dtype: object"
      ]
     },
     "execution_count": 75,
     "metadata": {},
     "output_type": "execute_result"
    }
   ],
   "execution_count": 75
  },
  {
   "metadata": {
    "ExecuteTime": {
     "end_time": "2025-10-26T15:10:31.531657Z",
     "start_time": "2025-10-26T15:10:31.526305Z"
    }
   },
   "cell_type": "code",
   "source": [
    "# Replace it by an arbitrary number with .fillna()\n",
    "df_titles['duration']=df_titles['duration'].fillna('0')"
   ],
   "id": "a0e964ae9ce9d919",
   "outputs": [],
   "execution_count": 76
  },
  {
   "metadata": {},
   "cell_type": "markdown",
   "source": "# Identifying Outliers",
   "id": "3524fad76390c268"
  },
  {
   "metadata": {
    "ExecuteTime": {
     "end_time": "2025-10-26T15:10:31.563536Z",
     "start_time": "2025-10-26T15:10:31.552318Z"
    }
   },
   "cell_type": "code",
   "source": "df_movie['duration'].str.extract(r'(\\d+)', expand=True).loc[5541]",
   "id": "8778e1765576f20d",
   "outputs": [
    {
     "data": {
      "text/plain": [
       "0    0\n",
       "Name: 5541, dtype: object"
      ]
     },
     "execution_count": 77,
     "metadata": {},
     "output_type": "execute_result"
    }
   ],
   "execution_count": 77
  },
  {
   "metadata": {
    "ExecuteTime": {
     "end_time": "2025-10-26T15:10:31.578308Z",
     "start_time": "2025-10-26T15:10:31.571166Z"
    }
   },
   "cell_type": "code",
   "source": "df_movie['rating'].value_counts()",
   "id": "798992726670f96e",
   "outputs": [
    {
     "data": {
      "text/plain": [
       "rating\n",
       "TV-MA       1994\n",
       "TV-14       1393\n",
       "R            794\n",
       "TV-PG        517\n",
       "PG-13        489\n",
       "PG           286\n",
       "TV-Y7        123\n",
       "TV-G         114\n",
       "TV-Y         105\n",
       "NR            75\n",
       "G             41\n",
       "TV-Y7-FV       4\n",
       "UR             3\n",
       "NC-17          2\n",
       "74 min         1\n",
       "84 min         1\n",
       "66 min         1\n",
       "Name: count, dtype: int64"
      ]
     },
     "execution_count": 78,
     "metadata": {},
     "output_type": "execute_result"
    }
   ],
   "execution_count": 78
  },
  {
   "metadata": {
    "ExecuteTime": {
     "end_time": "2025-10-26T15:10:31.613465Z",
     "start_time": "2025-10-26T15:10:31.601924Z"
    }
   },
   "cell_type": "code",
   "source": "df_movie['duration'].str.split(n=0,expand=True)[0].astype(int)",
   "id": "9cd6ab4df4cc333b",
   "outputs": [
    {
     "data": {
      "text/plain": [
       "0        90\n",
       "6        91\n",
       "7       125\n",
       "9       104\n",
       "12      127\n",
       "       ... \n",
       "8801     96\n",
       "8802    158\n",
       "8804     88\n",
       "8805     88\n",
       "8806    111\n",
       "Name: 0, Length: 5943, dtype: int64"
      ]
     },
     "execution_count": 79,
     "metadata": {},
     "output_type": "execute_result"
    }
   ],
   "execution_count": 79
  },
  {
   "metadata": {
    "ExecuteTime": {
     "end_time": "2025-10-26T15:10:31.625700Z",
     "start_time": "2025-10-26T15:10:31.619525Z"
    }
   },
   "cell_type": "code",
   "source": [
    "# selecting only movies\n",
    "df_movie = df_titles[df_titles['type']=='Movie']"
   ],
   "id": "2d21e537b178d7a6",
   "outputs": [],
   "execution_count": 80
  },
  {
   "metadata": {
    "ExecuteTime": {
     "end_time": "2025-10-26T15:10:31.644794Z",
     "start_time": "2025-10-26T15:10:31.632394Z"
    }
   },
   "cell_type": "code",
   "source": [
    "# Split Strings by Characters with the str.split Method\n",
    "df_movie = df_movie.assign(minute = df_movie['duration'].str.split(expand=True)[0].astype(int))"
   ],
   "id": "2202a934a6886930",
   "outputs": [],
   "execution_count": 81
  },
  {
   "metadata": {
    "ExecuteTime": {
     "end_time": "2025-10-26T15:10:46.249377Z",
     "start_time": "2025-10-26T15:10:46.238237Z"
    }
   },
   "cell_type": "code",
   "source": "df_movie.head()",
   "id": "4c4648d347f238ec",
   "outputs": [
    {
     "data": {
      "text/plain": [
       "   show_id   type                             title  \\\n",
       "0       s1  Movie              Dick Johnson Is Dead   \n",
       "6       s7  Movie  My Little Pony: A New Generation   \n",
       "7       s8  Movie                           Sankofa   \n",
       "9      s10  Movie                      The Starling   \n",
       "12     s13  Movie                      Je Suis Karl   \n",
       "\n",
       "                         director  \\\n",
       "0                 Kirsten Johnson   \n",
       "6   Robert Cullen, José Luis Ucha   \n",
       "7                    Haile Gerima   \n",
       "9                  Theodore Melfi   \n",
       "12            Christian Schwochow   \n",
       "\n",
       "                                                 cast  \\\n",
       "0                                                 NaN   \n",
       "6   Vanessa Hudgens, Kimiko Glenn, James Marsden, ...   \n",
       "7   Kofi Ghanaba, Oyafunmike Ogunlano, Alexandra D...   \n",
       "9   Melissa McCarthy, Chris O'Dowd, Kevin Kline, T...   \n",
       "12  Luna Wedler, Jannis Niewöhner, Milan Peschel, ...   \n",
       "\n",
       "                                              country          date_added  \\\n",
       "0                                       United States  September 25, 2021   \n",
       "6                                                 NaN  September 24, 2021   \n",
       "7   United States, Ghana, Burkina Faso, United Kin...  September 24, 2021   \n",
       "9                                       United States  September 24, 2021   \n",
       "12                            Germany, Czech Republic  September 23, 2021   \n",
       "\n",
       "    release_year rating duration  \\\n",
       "0           2020  PG-13   90 min   \n",
       "6           2021     PG   91 min   \n",
       "7           1993  TV-MA  125 min   \n",
       "9           2021  PG-13  104 min   \n",
       "12          2021  TV-MA  127 min   \n",
       "\n",
       "                                           listed_in  \\\n",
       "0                                      Documentaries   \n",
       "6                           Children & Family Movies   \n",
       "7   Dramas, Independent Movies, International Movies   \n",
       "9                                   Comedies, Dramas   \n",
       "12                      Dramas, International Movies   \n",
       "\n",
       "                                          description  minute  \n",
       "0   As her father nears the end of his life, filmm...      90  \n",
       "6   Equestria's divided. But a bright-eyed hero be...      91  \n",
       "7   On a photo shoot in Ghana, an American model s...     125  \n",
       "9   A woman adjusting to life after a loss contend...     104  \n",
       "12  After most of her family is murdered in a terr...     127  "
      ],
      "text/html": [
       "<div>\n",
       "<style scoped>\n",
       "    .dataframe tbody tr th:only-of-type {\n",
       "        vertical-align: middle;\n",
       "    }\n",
       "\n",
       "    .dataframe tbody tr th {\n",
       "        vertical-align: top;\n",
       "    }\n",
       "\n",
       "    .dataframe thead th {\n",
       "        text-align: right;\n",
       "    }\n",
       "</style>\n",
       "<table border=\"1\" class=\"dataframe\">\n",
       "  <thead>\n",
       "    <tr style=\"text-align: right;\">\n",
       "      <th></th>\n",
       "      <th>show_id</th>\n",
       "      <th>type</th>\n",
       "      <th>title</th>\n",
       "      <th>director</th>\n",
       "      <th>cast</th>\n",
       "      <th>country</th>\n",
       "      <th>date_added</th>\n",
       "      <th>release_year</th>\n",
       "      <th>rating</th>\n",
       "      <th>duration</th>\n",
       "      <th>listed_in</th>\n",
       "      <th>description</th>\n",
       "      <th>minute</th>\n",
       "    </tr>\n",
       "  </thead>\n",
       "  <tbody>\n",
       "    <tr>\n",
       "      <th>0</th>\n",
       "      <td>s1</td>\n",
       "      <td>Movie</td>\n",
       "      <td>Dick Johnson Is Dead</td>\n",
       "      <td>Kirsten Johnson</td>\n",
       "      <td>NaN</td>\n",
       "      <td>United States</td>\n",
       "      <td>September 25, 2021</td>\n",
       "      <td>2020</td>\n",
       "      <td>PG-13</td>\n",
       "      <td>90 min</td>\n",
       "      <td>Documentaries</td>\n",
       "      <td>As her father nears the end of his life, filmm...</td>\n",
       "      <td>90</td>\n",
       "    </tr>\n",
       "    <tr>\n",
       "      <th>6</th>\n",
       "      <td>s7</td>\n",
       "      <td>Movie</td>\n",
       "      <td>My Little Pony: A New Generation</td>\n",
       "      <td>Robert Cullen, José Luis Ucha</td>\n",
       "      <td>Vanessa Hudgens, Kimiko Glenn, James Marsden, ...</td>\n",
       "      <td>NaN</td>\n",
       "      <td>September 24, 2021</td>\n",
       "      <td>2021</td>\n",
       "      <td>PG</td>\n",
       "      <td>91 min</td>\n",
       "      <td>Children &amp; Family Movies</td>\n",
       "      <td>Equestria's divided. But a bright-eyed hero be...</td>\n",
       "      <td>91</td>\n",
       "    </tr>\n",
       "    <tr>\n",
       "      <th>7</th>\n",
       "      <td>s8</td>\n",
       "      <td>Movie</td>\n",
       "      <td>Sankofa</td>\n",
       "      <td>Haile Gerima</td>\n",
       "      <td>Kofi Ghanaba, Oyafunmike Ogunlano, Alexandra D...</td>\n",
       "      <td>United States, Ghana, Burkina Faso, United Kin...</td>\n",
       "      <td>September 24, 2021</td>\n",
       "      <td>1993</td>\n",
       "      <td>TV-MA</td>\n",
       "      <td>125 min</td>\n",
       "      <td>Dramas, Independent Movies, International Movies</td>\n",
       "      <td>On a photo shoot in Ghana, an American model s...</td>\n",
       "      <td>125</td>\n",
       "    </tr>\n",
       "    <tr>\n",
       "      <th>9</th>\n",
       "      <td>s10</td>\n",
       "      <td>Movie</td>\n",
       "      <td>The Starling</td>\n",
       "      <td>Theodore Melfi</td>\n",
       "      <td>Melissa McCarthy, Chris O'Dowd, Kevin Kline, T...</td>\n",
       "      <td>United States</td>\n",
       "      <td>September 24, 2021</td>\n",
       "      <td>2021</td>\n",
       "      <td>PG-13</td>\n",
       "      <td>104 min</td>\n",
       "      <td>Comedies, Dramas</td>\n",
       "      <td>A woman adjusting to life after a loss contend...</td>\n",
       "      <td>104</td>\n",
       "    </tr>\n",
       "    <tr>\n",
       "      <th>12</th>\n",
       "      <td>s13</td>\n",
       "      <td>Movie</td>\n",
       "      <td>Je Suis Karl</td>\n",
       "      <td>Christian Schwochow</td>\n",
       "      <td>Luna Wedler, Jannis Niewöhner, Milan Peschel, ...</td>\n",
       "      <td>Germany, Czech Republic</td>\n",
       "      <td>September 23, 2021</td>\n",
       "      <td>2021</td>\n",
       "      <td>TV-MA</td>\n",
       "      <td>127 min</td>\n",
       "      <td>Dramas, International Movies</td>\n",
       "      <td>After most of her family is murdered in a terr...</td>\n",
       "      <td>127</td>\n",
       "    </tr>\n",
       "  </tbody>\n",
       "</table>\n",
       "</div>"
      ]
     },
     "execution_count": 83,
     "metadata": {},
     "output_type": "execute_result"
    }
   ],
   "execution_count": 83
  },
  {
   "metadata": {},
   "cell_type": "markdown",
   "source": "## Using histograms to identify outliers within numeric data",
   "id": "ae58a97a67d3d2f4"
  },
  {
   "metadata": {
    "ExecuteTime": {
     "end_time": "2025-10-26T15:12:54.956228Z",
     "start_time": "2025-10-26T15:12:54.689459Z"
    }
   },
   "cell_type": "code",
   "source": "ax = df_movie['minute'].plot(kind='hist',bins=10)",
   "id": "29a30f8ac2504ff4",
   "outputs": [
    {
     "data": {
      "text/plain": [
       "<Figure size 640x480 with 1 Axes>"
      ],
      "image/png": "[encoded data removed]"
     },
     "metadata": {},
     "output_type": "display_data"
    }
   ],
   "execution_count": 84
  },
  {
   "metadata": {
    "ExecuteTime": {
     "end_time": "2025-10-26T15:15:03.959489Z",
     "start_time": "2025-10-26T15:15:03.939448Z"
    }
   },
   "cell_type": "code",
   "source": [
    "# get bar ranges with value_counts method and numbers of bins\n",
    "df_movie['minute'].value_counts(bins=10).sort_index()"
   ],
   "id": "68f6433e51ab13fb",
   "outputs": [
    {
     "data": {
      "text/plain": [
       "(-0.254, 25.3]      72\n",
       "(25.3, 50.6]       157\n",
       "(50.6, 75.9]       567\n",
       "(75.9, 101.2]     2475\n",
       "(101.2, 126.5]    1813\n",
       "(126.5, 151.8]     631\n",
       "(151.8, 177.1]     178\n",
       "(177.1, 202.4]      34\n",
       "(202.4, 227.7]      10\n",
       "(227.7, 253.0]       6\n",
       "Name: count, dtype: int64"
      ]
     },
     "execution_count": 85,
     "metadata": {},
     "output_type": "execute_result"
    }
   ],
   "execution_count": 85
  },
  {
   "metadata": {
    "ExecuteTime": {
     "end_time": "2025-10-26T15:24:25.477505Z",
     "start_time": "2025-10-26T15:24:25.463647Z"
    }
   },
   "cell_type": "code",
   "source": [
    "# Dealing with outliers\n",
    "df_movie[(df_movie['minute'] < 64.8) | (df_movie['minute']>157.5)].head()"
   ],
   "id": "68015d5caa2156b7",
   "outputs": [
    {
     "data": {
      "text/plain": [
       "   show_id   type                                         title  \\\n",
       "22     s23  Movie                               Avvai Shanmughi   \n",
       "23     s24  Movie  Go! Go! Cory Carson: Chrissy Takes the Wheel   \n",
       "24     s25  Movie                                         Jeans   \n",
       "45     s46  Movie                        My Heroes Were Cowboys   \n",
       "71     s72  Movie                   A StoryBots Space Adventure   \n",
       "\n",
       "                   director  \\\n",
       "22           K.S. Ravikumar   \n",
       "23  Alex Woo, Stanley Moore   \n",
       "24               S. Shankar   \n",
       "45              Tyler Greco   \n",
       "71          David A. Vargas   \n",
       "\n",
       "                                                 cast country  \\\n",
       "22  Kamal Hassan, Meena, Gemini Ganesan, Heera Raj...     NaN   \n",
       "23  Maisie Benson, Paul Killam, Kerry Gudjohnsen, ...     NaN   \n",
       "24  Prashanth, Aishwarya Rai Bachchan, Sri Lakshmi...   India   \n",
       "45                                                NaN     NaN   \n",
       "71  Evan Spiridellis, Erin Fitzgerald, Jeff Gill, ...     NaN   \n",
       "\n",
       "            date_added  release_year rating duration  \\\n",
       "22  September 21, 2021          1996  TV-PG  161 min   \n",
       "23  September 21, 2021          2021   TV-Y   61 min   \n",
       "24  September 21, 2021          1998  TV-14  166 min   \n",
       "45  September 16, 2021          2021     PG   23 min   \n",
       "71  September 14, 2021          2021   TV-Y   13 min   \n",
       "\n",
       "                                          listed_in  \\\n",
       "22                   Comedies, International Movies   \n",
       "23                         Children & Family Movies   \n",
       "24  Comedies, International Movies, Romantic Movies   \n",
       "45                                    Documentaries   \n",
       "71                         Children & Family Movies   \n",
       "\n",
       "                                          description  minute  \n",
       "22  Newly divorced and denied visitation rights wi...     161  \n",
       "23  From arcade games to sled days and hiccup cure...      61  \n",
       "24  When the father of the man she loves insists t...     166  \n",
       "45  Robin Wiltshire's painful childhood was rescue...      23  \n",
       "71  Join the StoryBots and the space travelers of ...      13  "
      ],
      "text/html": [
       "<div>\n",
       "<style scoped>\n",
       "    .dataframe tbody tr th:only-of-type {\n",
       "        vertical-align: middle;\n",
       "    }\n",
       "\n",
       "    .dataframe tbody tr th {\n",
       "        vertical-align: top;\n",
       "    }\n",
       "\n",
       "    .dataframe thead th {\n",
       "        text-align: right;\n",
       "    }\n",
       "</style>\n",
       "<table border=\"1\" class=\"dataframe\">\n",
       "  <thead>\n",
       "    <tr style=\"text-align: right;\">\n",
       "      <th></th>\n",
       "      <th>show_id</th>\n",
       "      <th>type</th>\n",
       "      <th>title</th>\n",
       "      <th>director</th>\n",
       "      <th>cast</th>\n",
       "      <th>country</th>\n",
       "      <th>date_added</th>\n",
       "      <th>release_year</th>\n",
       "      <th>rating</th>\n",
       "      <th>duration</th>\n",
       "      <th>listed_in</th>\n",
       "      <th>description</th>\n",
       "      <th>minute</th>\n",
       "    </tr>\n",
       "  </thead>\n",
       "  <tbody>\n",
       "    <tr>\n",
       "      <th>22</th>\n",
       "      <td>s23</td>\n",
       "      <td>Movie</td>\n",
       "      <td>Avvai Shanmughi</td>\n",
       "      <td>K.S. Ravikumar</td>\n",
       "      <td>Kamal Hassan, Meena, Gemini Ganesan, Heera Raj...</td>\n",
       "      <td>NaN</td>\n",
       "      <td>September 21, 2021</td>\n",
       "      <td>1996</td>\n",
       "      <td>TV-PG</td>\n",
       "      <td>161 min</td>\n",
       "      <td>Comedies, International Movies</td>\n",
       "      <td>Newly divorced and denied visitation rights wi...</td>\n",
       "      <td>161</td>\n",
       "    </tr>\n",
       "    <tr>\n",
       "      <th>23</th>\n",
       "      <td>s24</td>\n",
       "      <td>Movie</td>\n",
       "      <td>Go! Go! Cory Carson: Chrissy Takes the Wheel</td>\n",
       "      <td>Alex Woo, Stanley Moore</td>\n",
       "      <td>Maisie Benson, Paul Killam, Kerry Gudjohnsen, ...</td>\n",
       "      <td>NaN</td>\n",
       "      <td>September 21, 2021</td>\n",
       "      <td>2021</td>\n",
       "      <td>TV-Y</td>\n",
       "      <td>61 min</td>\n",
       "      <td>Children &amp; Family Movies</td>\n",
       "      <td>From arcade games to sled days and hiccup cure...</td>\n",
       "      <td>61</td>\n",
       "    </tr>\n",
       "    <tr>\n",
       "      <th>24</th>\n",
       "      <td>s25</td>\n",
       "      <td>Movie</td>\n",
       "      <td>Jeans</td>\n",
       "      <td>S. Shankar</td>\n",
       "      <td>Prashanth, Aishwarya Rai Bachchan, Sri Lakshmi...</td>\n",
       "      <td>India</td>\n",
       "      <td>September 21, 2021</td>\n",
       "      <td>1998</td>\n",
       "      <td>TV-14</td>\n",
       "      <td>166 min</td>\n",
       "      <td>Comedies, International Movies, Romantic Movies</td>\n",
       "      <td>When the father of the man she loves insists t...</td>\n",
       "      <td>166</td>\n",
       "    </tr>\n",
       "    <tr>\n",
       "      <th>45</th>\n",
       "      <td>s46</td>\n",
       "      <td>Movie</td>\n",
       "      <td>My Heroes Were Cowboys</td>\n",
       "      <td>Tyler Greco</td>\n",
       "      <td>NaN</td>\n",
       "      <td>NaN</td>\n",
       "      <td>September 16, 2021</td>\n",
       "      <td>2021</td>\n",
       "      <td>PG</td>\n",
       "      <td>23 min</td>\n",
       "      <td>Documentaries</td>\n",
       "      <td>Robin Wiltshire's painful childhood was rescue...</td>\n",
       "      <td>23</td>\n",
       "    </tr>\n",
       "    <tr>\n",
       "      <th>71</th>\n",
       "      <td>s72</td>\n",
       "      <td>Movie</td>\n",
       "      <td>A StoryBots Space Adventure</td>\n",
       "      <td>David A. Vargas</td>\n",
       "      <td>Evan Spiridellis, Erin Fitzgerald, Jeff Gill, ...</td>\n",
       "      <td>NaN</td>\n",
       "      <td>September 14, 2021</td>\n",
       "      <td>2021</td>\n",
       "      <td>TV-Y</td>\n",
       "      <td>13 min</td>\n",
       "      <td>Children &amp; Family Movies</td>\n",
       "      <td>Join the StoryBots and the space travelers of ...</td>\n",
       "      <td>13</td>\n",
       "    </tr>\n",
       "  </tbody>\n",
       "</table>\n",
       "</div>"
      ]
     },
     "execution_count": 87,
     "metadata": {},
     "output_type": "execute_result"
    }
   ],
   "execution_count": 87
  },
  {
   "metadata": {},
   "cell_type": "markdown",
   "source": "## Using boxplot to identify outliers within numeric data",
   "id": "ab187b22acc1e2e1"
  },
  {
   "metadata": {
    "ExecuteTime": {
     "end_time": "2025-10-26T15:26:41.677761Z",
     "start_time": "2025-10-26T15:26:41.613409Z"
    }
   },
   "cell_type": "code",
   "source": [
    "# make a boxplot\n",
    "df_movie['minute'].plot(kind='box', vert=False,figsize=(10,5))\n",
    "plt.xlabel('Minute')\n",
    "plt.ylabel('Count')\n",
    "\n",
    "plt.show()"
   ],
   "id": "bb1ea90f1dc96328",
   "outputs": [
    {
     "data": {
      "text/plain": [
       "<Figure size 1000x500 with 1 Axes>"
      ],
      "image/png": "[encoded data removed]"
     },
     "metadata": {},
     "output_type": "display_data"
    }
   ],
   "execution_count": 91
  },
  {
   "metadata": {
    "ExecuteTime": {
     "end_time": "2025-10-26T15:27:20.580742Z",
     "start_time": "2025-10-26T15:27:20.572430Z"
    }
   },
   "cell_type": "code",
   "source": [
    "# overview descriptive statitics\n",
    "# IQR = Q3-Q1\n",
    "min_boxplot = 87 - 1.5*(114 - 87) # Q1 - 1.5*IQR\n",
    "max_boxplot = 114 + 1.5*(114 - 87) # Q3 + 1.5*IQR\n",
    "\n",
    "print(df_movie['minute'].describe())\n",
    "print(min_boxplot)\n",
    "print(max_boxplot)"
   ],
   "id": "8410c150c590344d",
   "outputs": [
    {
     "name": "stdout",
     "output_type": "stream",
     "text": [
      "count    5943.000000\n",
      "mean      100.533064\n",
      "std        27.399894\n",
      "min         0.000000\n",
      "25%        88.000000\n",
      "50%        99.000000\n",
      "75%       115.000000\n",
      "max       253.000000\n",
      "Name: minute, dtype: float64\n",
      "46.5\n",
      "154.5\n"
     ]
    }
   ],
   "execution_count": 92
  },
  {
   "metadata": {
    "ExecuteTime": {
     "end_time": "2025-10-26T15:28:37.127393Z",
     "start_time": "2025-10-26T15:28:37.112697Z"
    }
   },
   "cell_type": "code",
   "source": [
    "# Dealing with Outliers\n",
    "df_movie[(df_movie['minute']<46.5) | (df_movie['minute']>154.5)]"
   ],
   "id": "84cbe1987f91ef6a",
   "outputs": [
    {
     "data": {
      "text/plain": [
       "     show_id   type                            title         director  \\\n",
       "22       s23  Movie                  Avvai Shanmughi   K.S. Ravikumar   \n",
       "24       s25  Movie                            Jeans       S. Shankar   \n",
       "45       s46  Movie           My Heroes Were Cowboys      Tyler Greco   \n",
       "71       s72  Movie      A StoryBots Space Adventure  David A. Vargas   \n",
       "73       s74  Movie                     King of Boys     Kemi Adetiba   \n",
       "...      ...    ...                              ...              ...   \n",
       "8763   s8764  Movie  WWII: Report from the Aleutians      John Huston   \n",
       "8764   s8765  Movie                       Wyatt Earp  Lawrence Kasdan   \n",
       "8770   s8771  Movie                          Yaadein     Subhash Ghai   \n",
       "8788   s8789  Movie                     You Carry Me       Ivona Juka   \n",
       "8802   s8803  Movie                           Zodiac    David Fincher   \n",
       "\n",
       "                                                   cast  \\\n",
       "22    Kamal Hassan, Meena, Gemini Ganesan, Heera Raj...   \n",
       "24    Prashanth, Aishwarya Rai Bachchan, Sri Lakshmi...   \n",
       "45                                                  NaN   \n",
       "71    Evan Spiridellis, Erin Fitzgerald, Jeff Gill, ...   \n",
       "73    Sola Sobowale, Adesua Etomi, Remilekun \"Remini...   \n",
       "...                                                 ...   \n",
       "8763                                                NaN   \n",
       "8764  Kevin Costner, Dennis Quaid, Gene Hackman, Dav...   \n",
       "8770  Jackie Shroff, Hrithik Roshan, Kareena Kapoor,...   \n",
       "8788  Lana Baric, Vojislav Brajovic, Natasa Janjic, ...   \n",
       "8802  Mark Ruffalo, Jake Gyllenhaal, Robert Downey J...   \n",
       "\n",
       "                                    country          date_added  release_year  \\\n",
       "22                                      NaN  September 21, 2021          1996   \n",
       "24                                    India  September 21, 2021          1998   \n",
       "45                                      NaN  September 16, 2021          2021   \n",
       "71                                      NaN  September 14, 2021          2021   \n",
       "73                                  Nigeria  September 14, 2021          2018   \n",
       "...                                     ...                 ...           ...   \n",
       "8763                          United States      March 31, 2017          1943   \n",
       "8764                          United States     January 1, 2020          1994   \n",
       "8770                                  India       March 1, 2018          2001   \n",
       "8788  Croatia, Slovenia, Serbia, Montenegro        July 1, 2016          2015   \n",
       "8802                          United States   November 20, 2019          2007   \n",
       "\n",
       "     rating duration                                        listed_in  \\\n",
       "22    TV-PG  161 min                   Comedies, International Movies   \n",
       "24    TV-14  166 min  Comedies, International Movies, Romantic Movies   \n",
       "45       PG   23 min                                    Documentaries   \n",
       "71     TV-Y   13 min                         Children & Family Movies   \n",
       "73    TV-MA  182 min                     Dramas, International Movies   \n",
       "...     ...      ...                                              ...   \n",
       "8763  TV-PG   45 min                                    Documentaries   \n",
       "8764  PG-13  191 min                               Action & Adventure   \n",
       "8770  TV-14  171 min    Dramas, International Movies, Romantic Movies   \n",
       "8788  TV-MA  157 min                     Dramas, International Movies   \n",
       "8802      R  158 min                   Cult Movies, Dramas, Thrillers   \n",
       "\n",
       "                                            description  minute  \n",
       "22    Newly divorced and denied visitation rights wi...     161  \n",
       "24    When the father of the man she loves insists t...     166  \n",
       "45    Robin Wiltshire's painful childhood was rescue...      23  \n",
       "71    Join the StoryBots and the space travelers of ...      13  \n",
       "73    When a powerful businesswoman’s political ambi...     182  \n",
       "...                                                 ...     ...  \n",
       "8763  Filmmaker John Huston narrates this Oscar-nomi...      45  \n",
       "8764  Legendary lawman Wyatt Earp is continually at ...     191  \n",
       "8770  Two young lovers set out to overcome the obsta...     171  \n",
       "8788  A soap opera producer, director and makeup art...     157  \n",
       "8802  A political cartoonist, a crime reporter and a...     158  \n",
       "\n",
       "[393 rows x 13 columns]"
      ],
      "text/html": [
       "<div>\n",
       "<style scoped>\n",
       "    .dataframe tbody tr th:only-of-type {\n",
       "        vertical-align: middle;\n",
       "    }\n",
       "\n",
       "    .dataframe tbody tr th {\n",
       "        vertical-align: top;\n",
       "    }\n",
       "\n",
       "    .dataframe thead th {\n",
       "        text-align: right;\n",
       "    }\n",
       "</style>\n",
       "<table border=\"1\" class=\"dataframe\">\n",
       "  <thead>\n",
       "    <tr style=\"text-align: right;\">\n",
       "      <th></th>\n",
       "      <th>show_id</th>\n",
       "      <th>type</th>\n",
       "      <th>title</th>\n",
       "      <th>director</th>\n",
       "      <th>cast</th>\n",
       "      <th>country</th>\n",
       "      <th>date_added</th>\n",
       "      <th>release_year</th>\n",
       "      <th>rating</th>\n",
       "      <th>duration</th>\n",
       "      <th>listed_in</th>\n",
       "      <th>description</th>\n",
       "      <th>minute</th>\n",
       "    </tr>\n",
       "  </thead>\n",
       "  <tbody>\n",
       "    <tr>\n",
       "      <th>22</th>\n",
       "      <td>s23</td>\n",
       "      <td>Movie</td>\n",
       "      <td>Avvai Shanmughi</td>\n",
       "      <td>K.S. Ravikumar</td>\n",
       "      <td>Kamal Hassan, Meena, Gemini Ganesan, Heera Raj...</td>\n",
       "      <td>NaN</td>\n",
       "      <td>September 21, 2021</td>\n",
       "      <td>1996</td>\n",
       "      <td>TV-PG</td>\n",
       "      <td>161 min</td>\n",
       "      <td>Comedies, International Movies</td>\n",
       "      <td>Newly divorced and denied visitation rights wi...</td>\n",
       "      <td>161</td>\n",
       "    </tr>\n",
       "    <tr>\n",
       "      <th>24</th>\n",
       "      <td>s25</td>\n",
       "      <td>Movie</td>\n",
       "      <td>Jeans</td>\n",
       "      <td>S. Shankar</td>\n",
       "      <td>Prashanth, Aishwarya Rai Bachchan, Sri Lakshmi...</td>\n",
       "      <td>India</td>\n",
       "      <td>September 21, 2021</td>\n",
       "      <td>1998</td>\n",
       "      <td>TV-14</td>\n",
       "      <td>166 min</td>\n",
       "      <td>Comedies, International Movies, Romantic Movies</td>\n",
       "      <td>When the father of the man she loves insists t...</td>\n",
       "      <td>166</td>\n",
       "    </tr>\n",
       "    <tr>\n",
       "      <th>45</th>\n",
       "      <td>s46</td>\n",
       "      <td>Movie</td>\n",
       "      <td>My Heroes Were Cowboys</td>\n",
       "      <td>Tyler Greco</td>\n",
       "      <td>NaN</td>\n",
       "      <td>NaN</td>\n",
       "      <td>September 16, 2021</td>\n",
       "      <td>2021</td>\n",
       "      <td>PG</td>\n",
       "      <td>23 min</td>\n",
       "      <td>Documentaries</td>\n",
       "      <td>Robin Wiltshire's painful childhood was rescue...</td>\n",
       "      <td>23</td>\n",
       "    </tr>\n",
       "    <tr>\n",
       "      <th>71</th>\n",
       "      <td>s72</td>\n",
       "      <td>Movie</td>\n",
       "      <td>A StoryBots Space Adventure</td>\n",
       "      <td>David A. Vargas</td>\n",
       "      <td>Evan Spiridellis, Erin Fitzgerald, Jeff Gill, ...</td>\n",
       "      <td>NaN</td>\n",
       "      <td>September 14, 2021</td>\n",
       "      <td>2021</td>\n",
       "      <td>TV-Y</td>\n",
       "      <td>13 min</td>\n",
       "      <td>Children &amp; Family Movies</td>\n",
       "      <td>Join the StoryBots and the space travelers of ...</td>\n",
       "      <td>13</td>\n",
       "    </tr>\n",
       "    <tr>\n",
       "      <th>73</th>\n",
       "      <td>s74</td>\n",
       "      <td>Movie</td>\n",
       "      <td>King of Boys</td>\n",
       "      <td>Kemi Adetiba</td>\n",
       "      <td>Sola Sobowale, Adesua Etomi, Remilekun \"Remini...</td>\n",
       "      <td>Nigeria</td>\n",
       "      <td>September 14, 2021</td>\n",
       "      <td>2018</td>\n",
       "      <td>TV-MA</td>\n",
       "      <td>182 min</td>\n",
       "      <td>Dramas, International Movies</td>\n",
       "      <td>When a powerful businesswoman’s political ambi...</td>\n",
       "      <td>182</td>\n",
       "    </tr>\n",
       "    <tr>\n",
       "      <th>...</th>\n",
       "      <td>...</td>\n",
       "      <td>...</td>\n",
       "      <td>...</td>\n",
       "      <td>...</td>\n",
       "      <td>...</td>\n",
       "      <td>...</td>\n",
       "      <td>...</td>\n",
       "      <td>...</td>\n",
       "      <td>...</td>\n",
       "      <td>...</td>\n",
       "      <td>...</td>\n",
       "      <td>...</td>\n",
       "      <td>...</td>\n",
       "    </tr>\n",
       "    <tr>\n",
       "      <th>8763</th>\n",
       "      <td>s8764</td>\n",
       "      <td>Movie</td>\n",
       "      <td>WWII: Report from the Aleutians</td>\n",
       "      <td>John Huston</td>\n",
       "      <td>NaN</td>\n",
       "      <td>United States</td>\n",
       "      <td>March 31, 2017</td>\n",
       "      <td>1943</td>\n",
       "      <td>TV-PG</td>\n",
       "      <td>45 min</td>\n",
       "      <td>Documentaries</td>\n",
       "      <td>Filmmaker John Huston narrates this Oscar-nomi...</td>\n",
       "      <td>45</td>\n",
       "    </tr>\n",
       "    <tr>\n",
       "      <th>8764</th>\n",
       "      <td>s8765</td>\n",
       "      <td>Movie</td>\n",
       "      <td>Wyatt Earp</td>\n",
       "      <td>Lawrence Kasdan</td>\n",
       "      <td>Kevin Costner, Dennis Quaid, Gene Hackman, Dav...</td>\n",
       "      <td>United States</td>\n",
       "      <td>January 1, 2020</td>\n",
       "      <td>1994</td>\n",
       "      <td>PG-13</td>\n",
       "      <td>191 min</td>\n",
       "      <td>Action &amp; Adventure</td>\n",
       "      <td>Legendary lawman Wyatt Earp is continually at ...</td>\n",
       "      <td>191</td>\n",
       "    </tr>\n",
       "    <tr>\n",
       "      <th>8770</th>\n",
       "      <td>s8771</td>\n",
       "      <td>Movie</td>\n",
       "      <td>Yaadein</td>\n",
       "      <td>Subhash Ghai</td>\n",
       "      <td>Jackie Shroff, Hrithik Roshan, Kareena Kapoor,...</td>\n",
       "      <td>India</td>\n",
       "      <td>March 1, 2018</td>\n",
       "      <td>2001</td>\n",
       "      <td>TV-14</td>\n",
       "      <td>171 min</td>\n",
       "      <td>Dramas, International Movies, Romantic Movies</td>\n",
       "      <td>Two young lovers set out to overcome the obsta...</td>\n",
       "      <td>171</td>\n",
       "    </tr>\n",
       "    <tr>\n",
       "      <th>8788</th>\n",
       "      <td>s8789</td>\n",
       "      <td>Movie</td>\n",
       "      <td>You Carry Me</td>\n",
       "      <td>Ivona Juka</td>\n",
       "      <td>Lana Baric, Vojislav Brajovic, Natasa Janjic, ...</td>\n",
       "      <td>Croatia, Slovenia, Serbia, Montenegro</td>\n",
       "      <td>July 1, 2016</td>\n",
       "      <td>2015</td>\n",
       "      <td>TV-MA</td>\n",
       "      <td>157 min</td>\n",
       "      <td>Dramas, International Movies</td>\n",
       "      <td>A soap opera producer, director and makeup art...</td>\n",
       "      <td>157</td>\n",
       "    </tr>\n",
       "    <tr>\n",
       "      <th>8802</th>\n",
       "      <td>s8803</td>\n",
       "      <td>Movie</td>\n",
       "      <td>Zodiac</td>\n",
       "      <td>David Fincher</td>\n",
       "      <td>Mark Ruffalo, Jake Gyllenhaal, Robert Downey J...</td>\n",
       "      <td>United States</td>\n",
       "      <td>November 20, 2019</td>\n",
       "      <td>2007</td>\n",
       "      <td>R</td>\n",
       "      <td>158 min</td>\n",
       "      <td>Cult Movies, Dramas, Thrillers</td>\n",
       "      <td>A political cartoonist, a crime reporter and a...</td>\n",
       "      <td>158</td>\n",
       "    </tr>\n",
       "  </tbody>\n",
       "</table>\n",
       "<p>393 rows × 13 columns</p>\n",
       "</div>"
      ]
     },
     "execution_count": 93,
     "metadata": {},
     "output_type": "execute_result"
    }
   ],
   "execution_count": 93
  },
  {
   "metadata": {},
   "cell_type": "markdown",
   "source": "## Using bars to identify outliers within categorical data",
   "id": "9a5ec55a2a780b7a"
  },
  {
   "metadata": {
    "ExecuteTime": {
     "end_time": "2025-10-26T15:29:28.339846Z",
     "start_time": "2025-10-26T15:29:28.190754Z"
    }
   },
   "cell_type": "code",
   "source": "df_movie['rating'].value_counts().plot(kind='bar', figsize=(10,5))",
   "id": "1ba87966cf246e29",
   "outputs": [
    {
     "data": {
      "text/plain": [
       "<Axes: xlabel='rating'>"
      ]
     },
     "execution_count": 94,
     "metadata": {},
     "output_type": "execute_result"
    },
    {
     "data": {
      "text/plain": [
       "<Figure size 1000x500 with 1 Axes>"
      ],
      "image/png": "[encoded data removed]"
     },
     "metadata": {},
     "output_type": "display_data"
    }
   ],
   "execution_count": 94
  },
  {
   "metadata": {},
   "cell_type": "markdown",
   "source": "# Text Normalization",
   "id": "8529a41468ee816a"
  },
  {
   "metadata": {},
   "cell_type": "markdown",
   "source": "## Dealing with inconsistent capitalization : lower(), upper() , title()",
   "id": "787b9a32be5340c8"
  },
  {
   "metadata": {
    "ExecuteTime": {
     "end_time": "2025-10-26T15:32:39.066802Z",
     "start_time": "2025-10-26T15:32:39.059464Z"
    }
   },
   "cell_type": "code",
   "source": "df_movie['title']= df_movie['title'].str.title()",
   "id": "6da22cd55251b22c",
   "outputs": [],
   "execution_count": 99
  },
  {
   "metadata": {},
   "cell_type": "markdown",
   "source": "## Remove blank spaces with strip(), Istrip(), rstrip()",
   "id": "91155f5c121350f7"
  },
  {
   "metadata": {
    "ExecuteTime": {
     "end_time": "2025-10-26T15:33:22.818324Z",
     "start_time": "2025-10-26T15:33:22.812542Z"
    }
   },
   "cell_type": "code",
   "source": [
    "\n",
    "# how the strip method workds\n",
    "movie_title = \" Titanic    \"\n",
    "\n",
    "# trim leading space with lstrip()\n",
    "print(movie_title.lstrip())\n",
    "# trim trailing space with rstrip()\n",
    "print(movie_title.rstrip())\n",
    "# trim leading and trailing space with strip()\n",
    "print(movie_title.strip())"
   ],
   "id": "b55db5d7631ff778",
   "outputs": [
    {
     "name": "stdout",
     "output_type": "stream",
     "text": [
      "Titanic    \n",
      " Titanic\n",
      "Titanic\n"
     ]
    }
   ],
   "execution_count": 100
  },
  {
   "metadata": {
    "ExecuteTime": {
     "end_time": "2025-10-26T15:33:50.431652Z",
     "start_time": "2025-10-26T15:33:50.424369Z"
    }
   },
   "cell_type": "code",
   "source": [
    "# get rid of leading and trailing white spaces with the apply method\n",
    "df_movie['title'].apply(lambda x:x.strip())"
   ],
   "id": "e4a32a12286e8bd3",
   "outputs": [
    {
     "data": {
      "text/plain": [
       "0                   Dick Johnson Is Dead\n",
       "6       My Little Pony: A New Generation\n",
       "7                                Sankofa\n",
       "9                           The Starling\n",
       "12                          Je Suis Karl\n",
       "                      ...               \n",
       "8801                             Zinzana\n",
       "8802                              Zodiac\n",
       "8804                          Zombieland\n",
       "8805                                Zoom\n",
       "8806                              Zubaan\n",
       "Name: title, Length: 5943, dtype: object"
      ]
     },
     "execution_count": 101,
     "metadata": {},
     "output_type": "execute_result"
    }
   ],
   "execution_count": 101
  },
  {
   "metadata": {},
   "cell_type": "markdown",
   "source": "## Replace strings with replace() or sub()",
   "id": "82161382daff2ceb"
  },
  {
   "metadata": {
    "ExecuteTime": {
     "end_time": "2025-10-26T15:36:36.187115Z",
     "start_time": "2025-10-26T15:36:36.170266Z"
    }
   },
   "cell_type": "code",
   "source": [
    "# remove punctuation signs with the str.replace() method and regex\n",
    "# df_movie['title'].str.replace('[^\\w\\s]', '', regex=True)\n",
    "\n",
    "\n",
    "# remove punctuation signs with the replace() method and regex\n",
    "# df_movie['title'].replace('[^\\w\\s]', '', regex=True)\n",
    "\n",
    "# difference between str.replace() and replace()\n",
    "# str.replace(): perform string or regex substitution on string data.\n",
    "# replace():  can replace any type of data\n",
    "\n",
    "# df_movie['title'].replace(1, 2, regex=True)\n",
    "# df_movie['title'].str.replace(1, 2, regex=True)\n",
    "\n",
    "# remove punctuation signs with the re.sub() function via teh apply method\n",
    "import re\n",
    "df_movie['title'].apply(lambda x:re.sub('[^\\w\\s]','',x))"
   ],
   "id": "229d4538adacfd60",
   "outputs": [
    {
     "name": "stderr",
     "output_type": "stream",
     "text": [
      "<>:17: SyntaxWarning: invalid escape sequence '\\w'\n",
      "<>:17: SyntaxWarning: invalid escape sequence '\\w'\n",
      "C:\\Users\\user\\AppData\\Local\\Temp\\ipykernel_4180\\2406192494.py:17: SyntaxWarning: invalid escape sequence '\\w'\n",
      "  df_movie['title'].apply(lambda x:re.sub('[^\\w\\s]','',x))\n"
     ]
    },
    {
     "data": {
      "text/plain": [
       "0                  Dick Johnson Is Dead\n",
       "6       My Little Pony A New Generation\n",
       "7                               Sankofa\n",
       "9                          The Starling\n",
       "12                         Je Suis Karl\n",
       "                     ...               \n",
       "8801                            Zinzana\n",
       "8802                             Zodiac\n",
       "8804                         Zombieland\n",
       "8805                               Zoom\n",
       "8806                             Zubaan\n",
       "Name: title, Length: 5943, dtype: object"
      ]
     },
     "execution_count": 107,
     "metadata": {},
     "output_type": "execute_result"
    }
   ],
   "execution_count": 107
  }
 ],
 "metadata": {
  "kernelspec": {
   "display_name": "Python 3",
   "language": "python",
   "name": "python3"
  },
  "language_info": {
   "codemirror_mode": {
    "name": "ipython",
    "version": 2
   },
   "file_extension": ".py",
   "mimetype": "text/x-python",
   "name": "python",
   "nbconvert_exporter": "python",
   "pygments_lexer": "ipython2",
   "version": "2.7.6"
  }
 },
 "nbformat": 4,
 "nbformat_minor": 5
}
