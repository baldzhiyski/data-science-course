{
 "cells": [
  {
   "metadata": {},
   "cell_type": "markdown",
   "source": "### Intro to Dataframes",
   "id": "bc98fcfb88c733a9"
  },
  {
   "cell_type": "code",
   "id": "initial_id",
   "metadata": {
    "collapsed": true
   },
   "source": [
    "import pandas as pd\n",
    "\n",
    "df = pd.DataFrame([[1,2,3],[4,5,6],[7,8,9]], columns=['A','B','C'], index=['x','y','z'])"
   ],
   "outputs": [],
   "execution_count": null
  },
  {
   "metadata": {},
   "cell_type": "code",
   "source": "df.describe()",
   "id": "374fbfbae50103ac",
   "outputs": [],
   "execution_count": null
  },
  {
   "metadata": {},
   "cell_type": "markdown",
   "source": "### Loading in Dataframes from Files\n",
   "id": "caee5441f1d45e8b"
  },
  {
   "metadata": {},
   "cell_type": "code",
   "source": [
    "coffee = pd.read_csv(\"./warmup-data/coffee.csv\")\n",
    "\n",
    "results = pd.read_parquet(\"./data/results.parquet\")\n",
    "\n",
    "olympics = pd.read_excel(\"./data/olympics-data.xlsx\")\n",
    "\n",
    "bios = pd.read_csv(\"./data/bios.csv\")\n"
   ],
   "id": "e5a9bb54644e188a",
   "outputs": [],
   "execution_count": null
  },
  {
   "metadata": {},
   "cell_type": "markdown",
   "source": "### Accessing data",
   "id": "80bb40bac9167e5e"
  },
  {
   "metadata": {},
   "cell_type": "code",
   "source": "coffee.sample(10)",
   "id": "6bcd02c5f5f30e00",
   "outputs": [],
   "execution_count": null
  },
  {
   "metadata": {},
   "cell_type": "code",
   "source": "coffee.loc[0:6,[\"Day\",\"Units Sold\"]]",
   "id": "e47f995f3ed61991",
   "outputs": [],
   "execution_count": null
  },
  {
   "metadata": {},
   "cell_type": "code",
   "source": "coffee.iloc[0:6,[0,2]] # Only using index",
   "id": "2434382d65448ee8",
   "outputs": [],
   "execution_count": null
  },
  {
   "metadata": {},
   "cell_type": "code",
   "source": [
    "coffee.loc[1:4,\"Unit Solds\"] = 10\n",
    "\n",
    "coffee.head()"
   ],
   "id": "5d0c9359fe8c682f",
   "outputs": [],
   "execution_count": null
  },
  {
   "metadata": {},
   "cell_type": "code",
   "source": "coffee.at[0,\"Unit Solds\"]=100",
   "id": "f3f36e2ba3db2bec",
   "outputs": [],
   "execution_count": null
  },
  {
   "metadata": {},
   "cell_type": "code",
   "source": [
    "coffee.sort_values(\"Unit Solds\",ascending=True)\n",
    "\n",
    "coffee.head()"
   ],
   "id": "f243cf1962e05a57",
   "outputs": [],
   "execution_count": null
  },
  {
   "metadata": {},
   "cell_type": "code",
   "source": [
    "for idx , row in coffee.iterrows():\n",
    "    print(idx)\n",
    "    print(row)\n",
    "    print(\"\\n\")"
   ],
   "id": "7e606dafbc76760f",
   "outputs": [],
   "execution_count": null
  },
  {
   "metadata": {},
   "cell_type": "markdown",
   "source": "### Filtering data",
   "id": "a9734c3d40ebc993"
  },
  {
   "metadata": {},
   "cell_type": "code",
   "source": "bios.loc[bios['height_cm']>215,[\"name\",\"height_cm\"]]",
   "id": "c10df8eb08b4f4aa",
   "outputs": [],
   "execution_count": null
  },
  {
   "metadata": {},
   "cell_type": "code",
   "source": "bios[(bios[\"height_cm\"]>215)][[\"name\",\"height_cm\"]]",
   "id": "c500573d91f1a304",
   "outputs": [],
   "execution_count": null
  },
  {
   "metadata": {},
   "cell_type": "code",
   "source": "bios[(bios[\"height_cm\"]>215) & (bios[\"born_country\"]==\"USA\")]",
   "id": "84f56e7cfe78a865",
   "outputs": [],
   "execution_count": null
  },
  {
   "metadata": {},
   "cell_type": "code",
   "source": "bios[bios[\"name\"].str.contains(\"Hristo\",case=False)]",
   "id": "cdcd86fd7044f0ae",
   "outputs": [],
   "execution_count": null
  },
  {
   "metadata": {},
   "cell_type": "code",
   "source": [
    "# Top 5 tallest overall\n",
    "bios.nlargest(5, 'height_cm')[['name', 'height_cm', 'born_country']]  # top 5 tallest rows\n"
   ],
   "id": "2e244836e5783b72",
   "outputs": [],
   "execution_count": null
  },
  {
   "metadata": {},
   "cell_type": "code",
   "source": [
    "# Tallest person in each country (per-group max)\n",
    "bios[bios['height_cm'].eq(bios.groupby('born_country')['height_cm'].transform('max'))][['name', 'born_country', 'height_cm']]  # tallest per country"
   ],
   "id": "878f45cb8dd1f17c",
   "outputs": [],
   "execution_count": null
  },
  {
   "metadata": {},
   "cell_type": "code",
   "source": [
    "# Filter by a set of countries\n",
    "bios[bios['born_country'].isin(['USA', 'Germany', 'Bulgaria'])][['name', 'born_country', 'height_cm']]  # only selected countries\n"
   ],
   "id": "c7cb60807b7aea83",
   "outputs": [],
   "execution_count": null
  },
  {
   "metadata": {},
   "cell_type": "code",
   "source": [
    "# Exclude certain countries\n",
    "bios[~bios['born_country'].isin({'USA', 'Canada'})][['name', 'born_country', 'height_cm']].head(10)  # not USA/Canada\n"
   ],
   "id": "85445ce4360da37f",
   "outputs": [],
   "execution_count": null
  },
  {
   "metadata": {},
   "cell_type": "code",
   "source": [
    "# Names that start with A or H (case-insensitive)\n",
    "bios[bios['name'].str.contains(r'^(A|H)', case=False, na=False)][['name']].head(10)  # anchors at start\n"
   ],
   "id": "be59a1be07471de1",
   "outputs": [],
   "execution_count": null
  },
  {
   "metadata": {},
   "cell_type": "code",
   "source": [
    "# Duplicate names (possible homonyms)\n",
    "bios[bios['name'].duplicated(keep=False)].sort_values('name')[['name', 'born_country', 'height_cm']]  # all duplicates\n"
   ],
   "id": "1840293b392d430",
   "outputs": [],
   "execution_count": null
  },
  {
   "metadata": {},
   "cell_type": "code",
   "source": [
    "# Data-quality check: names containing digits\n",
    "bios[bios['name'].str.contains(r'\\d', na=False)][['name']]"
   ],
   "id": "a1e6396cd6f8057f",
   "outputs": [],
   "execution_count": null
  },
  {
   "metadata": {},
   "cell_type": "code",
   "source": [
    "# Shortest person in each country (per-group min via sort+drop_duplicates)\n",
    "(bios.sort_values(['born_country', 'height_cm'])\n",
    "     .drop_duplicates('born_country'))[['name', 'born_country', 'height_cm']]  # shortest per country\n"
   ],
   "id": "43acfe732545be80",
   "outputs": [],
   "execution_count": null
  }
 ],
 "metadata": {
  "kernelspec": {
   "display_name": "Python 3",
   "language": "python",
   "name": "python3"
  },
  "language_info": {
   "codemirror_mode": {
    "name": "ipython",
    "version": 2
   },
   "file_extension": ".py",
   "mimetype": "text/x-python",
   "name": "python",
   "nbconvert_exporter": "python",
   "pygments_lexer": "ipython2",
   "version": "2.7.6"
  }
 },
 "nbformat": 4,
 "nbformat_minor": 5
}
