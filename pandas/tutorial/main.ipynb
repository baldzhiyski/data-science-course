{
 "cells": [
  {
   "metadata": {},
   "cell_type": "markdown",
   "source": "### Intro to Dataframes",
   "id": "bc98fcfb88c733a9"
  },
  {
   "cell_type": "code",
   "id": "initial_id",
   "metadata": {
    "collapsed": true
   },
   "source": [
    "import pandas as pd\n",
    "\n",
    "df = pd.DataFrame([[1,2,3],[4,5,6],[7,8,9]], columns=['A','B','C'], index=['x','y','z'])"
   ],
   "outputs": [],
   "execution_count": null
  },
  {
   "metadata": {},
   "cell_type": "code",
   "source": "df.describe()",
   "id": "374fbfbae50103ac",
   "outputs": [],
   "execution_count": null
  },
  {
   "metadata": {},
   "cell_type": "markdown",
   "source": "### Loading in Dataframes from Files\n",
   "id": "caee5441f1d45e8b"
  },
  {
   "metadata": {},
   "cell_type": "code",
   "source": [
    "coffee = pd.read_csv(\"./warmup-data/coffee.csv\")\n",
    "\n",
    "results = pd.read_parquet(\"./data/results.parquet\")\n",
    "\n",
    "olympics = pd.read_excel(\"./data/olympics-data.xlsx\")\n",
    "\n",
    "bios = pd.read_csv(\"./data/bios.csv\")\n"
   ],
   "id": "e5a9bb54644e188a",
   "outputs": [],
   "execution_count": null
  },
  {
   "metadata": {},
   "cell_type": "markdown",
   "source": "### Accessing data",
   "id": "80bb40bac9167e5e"
  },
  {
   "metadata": {},
   "cell_type": "code",
   "source": "coffee.sample(10)",
   "id": "6bcd02c5f5f30e00",
   "outputs": [],
   "execution_count": null
  },
  {
   "metadata": {},
   "cell_type": "code",
   "source": "coffee.loc[0:6,[\"Day\",\"Units Sold\"]]",
   "id": "e47f995f3ed61991",
   "outputs": [],
   "execution_count": null
  },
  {
   "metadata": {},
   "cell_type": "code",
   "source": "coffee.iloc[0:6,[0,2]] # Only using index",
   "id": "2434382d65448ee8",
   "outputs": [],
   "execution_count": null
  },
  {
   "metadata": {},
   "cell_type": "code",
   "source": [
    "coffee.loc[1:4,\"Unit Solds\"] = 10\n",
    "\n",
    "coffee.head()"
   ],
   "id": "5d0c9359fe8c682f",
   "outputs": [],
   "execution_count": null
  },
  {
   "metadata": {},
   "cell_type": "code",
   "source": "coffee.at[0,\"Unit Solds\"]=100",
   "id": "f3f36e2ba3db2bec",
   "outputs": [],
   "execution_count": null
  },
  {
   "metadata": {},
   "cell_type": "code",
   "source": [
    "coffee.sort_values(\"Unit Solds\",ascending=True)\n",
    "\n",
    "coffee.head()"
   ],
   "id": "f243cf1962e05a57",
   "outputs": [],
   "execution_count": null
  },
  {
   "metadata": {},
   "cell_type": "code",
   "source": [
    "for idx , row in coffee.iterrows():\n",
    "    print(idx)\n",
    "    print(row)\n",
    "    print(\"\\n\")"
   ],
   "id": "7e606dafbc76760f",
   "outputs": [],
   "execution_count": null
  },
  {
   "metadata": {},
   "cell_type": "markdown",
   "source": "### Filtering data",
   "id": "a9734c3d40ebc993"
  },
  {
   "metadata": {},
   "cell_type": "code",
   "source": "bios.loc[bios['height_cm']>215,[\"name\",\"height_cm\"]]",
   "id": "c10df8eb08b4f4aa",
   "outputs": [],
   "execution_count": null
  },
  {
   "metadata": {},
   "cell_type": "code",
   "source": "bios[(bios[\"height_cm\"]>215)][[\"name\",\"height_cm\"]]",
   "id": "c500573d91f1a304",
   "outputs": [],
   "execution_count": null
  },
  {
   "metadata": {},
   "cell_type": "code",
   "source": "bios[(bios[\"height_cm\"]>215) & (bios[\"born_country\"]==\"USA\")]",
   "id": "84f56e7cfe78a865",
   "outputs": [],
   "execution_count": null
  },
  {
   "metadata": {},
   "cell_type": "code",
   "source": "bios[bios[\"name\"].str.contains(\"Hristo\",case=False)]",
   "id": "cdcd86fd7044f0ae",
   "outputs": [],
   "execution_count": null
  },
  {
   "metadata": {},
   "cell_type": "code",
   "source": [
    "# Top 5 tallest overall\n",
    "bios.nlargest(5, 'height_cm')[['name', 'height_cm', 'born_country']]  # top 5 tallest rows\n"
   ],
   "id": "2e244836e5783b72",
   "outputs": [],
   "execution_count": null
  },
  {
   "metadata": {},
   "cell_type": "code",
   "source": [
    "# Tallest person in each country (per-group max)\n",
    "bios[bios['height_cm'].eq(bios.groupby('born_country')['height_cm'].transform('max'))][['name', 'born_country', 'height_cm']]  # tallest per country"
   ],
   "id": "878f45cb8dd1f17c",
   "outputs": [],
   "execution_count": null
  },
  {
   "metadata": {},
   "cell_type": "code",
   "source": [
    "# Filter by a set of countries\n",
    "bios[bios['born_country'].isin(['USA', 'Germany', 'Bulgaria'])][['name', 'born_country', 'height_cm']]  # only selected countries\n"
   ],
   "id": "c7cb60807b7aea83",
   "outputs": [],
   "execution_count": null
  },
  {
   "metadata": {},
   "cell_type": "code",
   "source": [
    "# Exclude certain countries\n",
    "bios[~bios['born_country'].isin({'USA', 'Canada'})][['name', 'born_country', 'height_cm']].head(10)  # not USA/Canada\n"
   ],
   "id": "85445ce4360da37f",
   "outputs": [],
   "execution_count": null
  },
  {
   "metadata": {},
   "cell_type": "code",
   "source": [
    "# Names that start with A or H (case-insensitive)\n",
    "bios[bios['name'].str.contains(r'^(A|H)', case=False, na=False)][['name']].head(10)  # anchors at start\n"
   ],
   "id": "be59a1be07471de1",
   "outputs": [],
   "execution_count": null
  },
  {
   "metadata": {},
   "cell_type": "code",
   "source": [
    "# Duplicate names (possible homonyms)\n",
    "bios[bios['name'].duplicated(keep=False)].sort_values('name')[['name', 'born_country', 'height_cm']]  # all duplicates\n"
   ],
   "id": "1840293b392d430",
   "outputs": [],
   "execution_count": null
  },
  {
   "metadata": {},
   "cell_type": "code",
   "source": [
    "# Data-quality check: names containing digits\n",
    "bios[bios['name'].str.contains(r'\\d', na=False)][['name']]"
   ],
   "id": "a1e6396cd6f8057f",
   "outputs": [],
   "execution_count": null
  },
  {
   "metadata": {},
   "cell_type": "code",
   "source": [
    "# Shortest person in each country (per-group min via sort+drop_duplicates)\n",
    "(bios.sort_values(['born_country', 'height_cm'])\n",
    "     .drop_duplicates('born_country'))[['name', 'born_country', 'height_cm']]  # shortest per country\n"
   ],
   "id": "43acfe732545be80",
   "outputs": [],
   "execution_count": null
  },
  {
   "metadata": {},
   "cell_type": "code",
   "source": "bios.query('born_country== \"USA\" and height_cm > 200')[['name', 'born_country', 'height_cm']]",
   "id": "6028cc3bccc3060e",
   "outputs": [],
   "execution_count": null
  },
  {
   "metadata": {},
   "cell_type": "markdown",
   "source": "### Adding / Removing Columns",
   "id": "92145bf3319c6111"
  },
  {
   "metadata": {},
   "cell_type": "code",
   "source": [
    "coffee['price'] = 5\n",
    "\n",
    "import numpy as np\n",
    "\n",
    "coffee['new_price'] = np.where(coffee['Coffee Type'] == 'Espresso',3.99,4.99)\n",
    "\n",
    "coffee.drop(columns=['price'], inplace=True)\n",
    "\n",
    "coffee.head()"
   ],
   "id": "b49778ce6cf77b91",
   "outputs": [],
   "execution_count": null
  },
  {
   "metadata": {},
   "cell_type": "code",
   "source": [
    "## Pointing to the same memory space\n",
    "coffe_new = coffee\n",
    "\n",
    "## New one , not modifying the original\n",
    "coffe_new = coffee.copy()"
   ],
   "id": "7464e3535b489ec4",
   "outputs": [],
   "execution_count": null
  },
  {
   "metadata": {},
   "cell_type": "code",
   "source": "coffee.head()",
   "id": "c93d28b6ba81e777",
   "outputs": [],
   "execution_count": null
  },
  {
   "metadata": {},
   "cell_type": "code",
   "source": "coffee['revenue'] = coffee['Units Sold'] * coffee['new_price']",
   "id": "80ea64830ad158f8",
   "outputs": [],
   "execution_count": null
  },
  {
   "metadata": {},
   "cell_type": "code",
   "source": "coffee.rename(columns={'new_price':'price'}, inplace=True)",
   "id": "c60fbe889a0680a0",
   "outputs": [],
   "execution_count": null
  },
  {
   "metadata": {},
   "cell_type": "code",
   "source": "bios.head()",
   "id": "71cd8a978346e1a9",
   "outputs": [],
   "execution_count": null
  },
  {
   "metadata": {},
   "cell_type": "code",
   "source": [
    "bios['first_name'] = bios['name'].str.split(' ').str[0]\n",
    "\n",
    "\n",
    "bios['born_data_time']=pd.to_datetime(bios['born_date'])"
   ],
   "id": "32913c49e2667d2b",
   "outputs": [],
   "execution_count": null
  },
  {
   "metadata": {},
   "cell_type": "code",
   "source": "bios['height_category'] = bios['height_cm'].apply(lambda x : 'Short' if x < 165 else ('Average' if x<185 else 'Tall'))",
   "id": "549a2bcbd5621e05",
   "outputs": [],
   "execution_count": null
  },
  {
   "metadata": {},
   "cell_type": "code",
   "source": [
    "def categorize_athlete(row):\n",
    "    if row['height_cm'] < 175 and row['weight_kg'] < 70:\n",
    "        return 'Lightweight'\n",
    "    elif row['height_cm'] < 185 and row['weight_kg'] <= 80:\n",
    "        return 'Middleweight'\n",
    "    else:\n",
    "        return 'Heavyweight'\n",
    "\n",
    "bios['category'] = bios.apply(categorize_athlete, axis=1)"
   ],
   "id": "b0d03b5e24719534",
   "outputs": [],
   "execution_count": null
  },
  {
   "metadata": {},
   "cell_type": "markdown",
   "source": "### Merging & Concatenating Data",
   "id": "49b5a8bd2fa40466"
  },
  {
   "metadata": {},
   "cell_type": "code",
   "source": "nocs = pd.read_csv('./data/noc_regions.csv')",
   "id": "1723e8b112adac9c",
   "outputs": [],
   "execution_count": null
  },
  {
   "metadata": {},
   "cell_type": "code",
   "source": "nocs.head()",
   "id": "ad0de113778efb69",
   "outputs": [],
   "execution_count": null
  },
  {
   "metadata": {},
   "cell_type": "code",
   "source": [
    "bios = pd.merge(bios, nocs, left_on='born_country', right_on='NOC', how='left')\n",
    "\n",
    "bios.rename(columns={'region':'born_country_full'},inplace=True)"
   ],
   "id": "db270c5ec8825dc2",
   "outputs": [],
   "execution_count": null
  },
  {
   "metadata": {},
   "cell_type": "code",
   "source": [
    "usa = bios[bios.born_country=='USA'].copy()\n",
    "gbr = bios[bios.born_country=='GBR'].copy()\n",
    "\n",
    "new_df = pd.concat([usa,gbr])\n",
    "\n",
    "new_df.head()"
   ],
   "id": "63c4dea8a56adbb4",
   "outputs": [],
   "execution_count": null
  },
  {
   "metadata": {},
   "cell_type": "markdown",
   "source": "### Handling Null Values",
   "id": "336b35b9db179224"
  },
  {
   "metadata": {},
   "cell_type": "code",
   "source": "coffee.loc[[0,1],'Units Sold'] = np.nan",
   "id": "55217cca72b514e3",
   "outputs": [],
   "execution_count": null
  },
  {
   "metadata": {},
   "cell_type": "code",
   "source": "display(coffee)",
   "id": "4dc8303953e272d6",
   "outputs": [],
   "execution_count": null
  },
  {
   "metadata": {},
   "cell_type": "code",
   "source": "coffee= coffee.fillna(coffee['Units Sold'].mean())",
   "id": "7abdba71e7cde060",
   "outputs": [],
   "execution_count": null
  },
  {
   "metadata": {},
   "cell_type": "code",
   "source": "coffee.dropna(subset=['Units Sold'], inplace=True)",
   "id": "d0a530d4b27b1852",
   "outputs": [],
   "execution_count": null
  },
  {
   "metadata": {},
   "cell_type": "code",
   "source": "coffee[coffee['Units Sold'].notna()]",
   "id": "18b112617aa2e9d8",
   "outputs": [],
   "execution_count": null
  },
  {
   "metadata": {},
   "cell_type": "markdown",
   "source": "### Aggregating Data",
   "id": "d3fee72bdac9a449"
  },
  {
   "metadata": {},
   "cell_type": "code",
   "source": "bios.head()",
   "id": "b18c53184e06358f",
   "outputs": [],
   "execution_count": null
  },
  {
   "metadata": {},
   "cell_type": "code",
   "source": "bios['born_city'].value_counts()",
   "id": "9a84dace1a8bc1c1",
   "outputs": [],
   "execution_count": null
  },
  {
   "metadata": {},
   "cell_type": "code",
   "source": "bios[bios['born_country']=='USA']['born_region'].value_counts()",
   "id": "4205fd93cce0282b",
   "outputs": [],
   "execution_count": null
  },
  {
   "metadata": {},
   "cell_type": "code",
   "source": "coffee.groupby(['Coffee Type'])['Units Sold'].sum()",
   "id": "4e423f0a2a992ad6",
   "outputs": [],
   "execution_count": null
  },
  {
   "metadata": {},
   "cell_type": "code",
   "source": "coffee.groupby(['Coffee Type']).agg({'Units Sold':'sum','price':'mean'})",
   "id": "7fe27a754ef54eb5",
   "outputs": [],
   "execution_count": null
  },
  {
   "metadata": {},
   "cell_type": "code",
   "source": [
    "pivot = coffee.pivot(columns='Coffee Type', index='Day' , values = 'revenue')\n",
    "\n",
    "pivot"
   ],
   "id": "43b95d651059f5c7",
   "outputs": [],
   "execution_count": null
  },
  {
   "metadata": {},
   "cell_type": "code",
   "source": "bios.groupby(bios['born_date'])['name'].count().reset_index()",
   "id": "f0aa3056c1790319",
   "outputs": [],
   "execution_count": null
  },
  {
   "metadata": {
    "ExecuteTime": {
     "end_time": "2025-10-11T13:30:22.513808Z",
     "start_time": "2025-10-11T13:30:22.480006Z"
    }
   },
   "cell_type": "code",
   "source": [
    "# Total, average, min, max height per country\n",
    "bios.groupby('born_country').agg({\n",
    "    'height_cm': ['count', 'mean', 'min', 'max', 'std']\n",
    "})\n"
   ],
   "id": "f737140ab3456a74",
   "outputs": [
    {
     "data": {
      "text/plain": [
       "             height_cm                                     \n",
       "                 count        mean    min    max        std\n",
       "born_country                                               \n",
       "AFG                 24  170.416667  160.0  183.0   6.580053\n",
       "AGU                  1  186.000000  186.0  186.0        NaN\n",
       "ALB                 38  174.657895  159.0  195.0  10.418996\n",
       "ALG                141  176.489362  155.0  196.0   7.681720\n",
       "AND                 31  172.096774  160.0  185.0   6.934719\n",
       "...                ...         ...    ...    ...        ...\n",
       "VIN                  5  181.200000  173.0  187.0   5.674504\n",
       "Vienna               3  171.000000  164.0  183.0  10.440307\n",
       "YEM                  4  169.000000  160.0  175.0   6.683313\n",
       "ZAM                 52  173.192308  145.0  191.0   9.277928\n",
       "ZIM                100  173.540000  155.0  205.0  10.229113\n",
       "\n",
       "[236 rows x 5 columns]"
      ],
      "text/html": [
       "<div>\n",
       "<style scoped>\n",
       "    .dataframe tbody tr th:only-of-type {\n",
       "        vertical-align: middle;\n",
       "    }\n",
       "\n",
       "    .dataframe tbody tr th {\n",
       "        vertical-align: top;\n",
       "    }\n",
       "\n",
       "    .dataframe thead tr th {\n",
       "        text-align: left;\n",
       "    }\n",
       "\n",
       "    .dataframe thead tr:last-of-type th {\n",
       "        text-align: right;\n",
       "    }\n",
       "</style>\n",
       "<table border=\"1\" class=\"dataframe\">\n",
       "  <thead>\n",
       "    <tr>\n",
       "      <th></th>\n",
       "      <th colspan=\"5\" halign=\"left\">height_cm</th>\n",
       "    </tr>\n",
       "    <tr>\n",
       "      <th></th>\n",
       "      <th>count</th>\n",
       "      <th>mean</th>\n",
       "      <th>min</th>\n",
       "      <th>max</th>\n",
       "      <th>std</th>\n",
       "    </tr>\n",
       "    <tr>\n",
       "      <th>born_country</th>\n",
       "      <th></th>\n",
       "      <th></th>\n",
       "      <th></th>\n",
       "      <th></th>\n",
       "      <th></th>\n",
       "    </tr>\n",
       "  </thead>\n",
       "  <tbody>\n",
       "    <tr>\n",
       "      <th>AFG</th>\n",
       "      <td>24</td>\n",
       "      <td>170.416667</td>\n",
       "      <td>160.0</td>\n",
       "      <td>183.0</td>\n",
       "      <td>6.580053</td>\n",
       "    </tr>\n",
       "    <tr>\n",
       "      <th>AGU</th>\n",
       "      <td>1</td>\n",
       "      <td>186.000000</td>\n",
       "      <td>186.0</td>\n",
       "      <td>186.0</td>\n",
       "      <td>NaN</td>\n",
       "    </tr>\n",
       "    <tr>\n",
       "      <th>ALB</th>\n",
       "      <td>38</td>\n",
       "      <td>174.657895</td>\n",
       "      <td>159.0</td>\n",
       "      <td>195.0</td>\n",
       "      <td>10.418996</td>\n",
       "    </tr>\n",
       "    <tr>\n",
       "      <th>ALG</th>\n",
       "      <td>141</td>\n",
       "      <td>176.489362</td>\n",
       "      <td>155.0</td>\n",
       "      <td>196.0</td>\n",
       "      <td>7.681720</td>\n",
       "    </tr>\n",
       "    <tr>\n",
       "      <th>AND</th>\n",
       "      <td>31</td>\n",
       "      <td>172.096774</td>\n",
       "      <td>160.0</td>\n",
       "      <td>185.0</td>\n",
       "      <td>6.934719</td>\n",
       "    </tr>\n",
       "    <tr>\n",
       "      <th>...</th>\n",
       "      <td>...</td>\n",
       "      <td>...</td>\n",
       "      <td>...</td>\n",
       "      <td>...</td>\n",
       "      <td>...</td>\n",
       "    </tr>\n",
       "    <tr>\n",
       "      <th>VIN</th>\n",
       "      <td>5</td>\n",
       "      <td>181.200000</td>\n",
       "      <td>173.0</td>\n",
       "      <td>187.0</td>\n",
       "      <td>5.674504</td>\n",
       "    </tr>\n",
       "    <tr>\n",
       "      <th>Vienna</th>\n",
       "      <td>3</td>\n",
       "      <td>171.000000</td>\n",
       "      <td>164.0</td>\n",
       "      <td>183.0</td>\n",
       "      <td>10.440307</td>\n",
       "    </tr>\n",
       "    <tr>\n",
       "      <th>YEM</th>\n",
       "      <td>4</td>\n",
       "      <td>169.000000</td>\n",
       "      <td>160.0</td>\n",
       "      <td>175.0</td>\n",
       "      <td>6.683313</td>\n",
       "    </tr>\n",
       "    <tr>\n",
       "      <th>ZAM</th>\n",
       "      <td>52</td>\n",
       "      <td>173.192308</td>\n",
       "      <td>145.0</td>\n",
       "      <td>191.0</td>\n",
       "      <td>9.277928</td>\n",
       "    </tr>\n",
       "    <tr>\n",
       "      <th>ZIM</th>\n",
       "      <td>100</td>\n",
       "      <td>173.540000</td>\n",
       "      <td>155.0</td>\n",
       "      <td>205.0</td>\n",
       "      <td>10.229113</td>\n",
       "    </tr>\n",
       "  </tbody>\n",
       "</table>\n",
       "<p>236 rows × 5 columns</p>\n",
       "</div>"
      ]
     },
     "execution_count": 152,
     "metadata": {},
     "output_type": "execute_result"
    }
   ],
   "execution_count": 152
  },
  {
   "metadata": {
    "ExecuteTime": {
     "end_time": "2025-10-11T13:30:35.826226Z",
     "start_time": "2025-10-11T13:30:35.777366Z"
    }
   },
   "cell_type": "code",
   "source": [
    "bios.groupby('born_country').agg(\n",
    "    num_people=('name', 'count'),\n",
    "    avg_height=('height_cm', 'mean'),\n",
    "    tallest=('height_cm', 'max'),\n",
    "    shortest=('height_cm', 'min')\n",
    ")\n"
   ],
   "id": "cd7ee18be8040ce",
   "outputs": [
    {
     "data": {
      "text/plain": [
       "              num_people  avg_height  tallest  shortest\n",
       "born_country                                           \n",
       "AFG                   25  170.416667    183.0     160.0\n",
       "AGU                    2  186.000000    186.0     186.0\n",
       "ALB                   45  174.657895    195.0     159.0\n",
       "ALG                  177  176.489362    196.0     155.0\n",
       "AND                   37  172.096774    185.0     160.0\n",
       "...                  ...         ...      ...       ...\n",
       "VIN                    8  181.200000    187.0     173.0\n",
       "Vienna                11  171.000000    183.0     164.0\n",
       "YEM                    4  169.000000    175.0     160.0\n",
       "ZAM                   64  173.192308    191.0     145.0\n",
       "ZIM                  107  173.540000    205.0     155.0\n",
       "\n",
       "[236 rows x 4 columns]"
      ],
      "text/html": [
       "<div>\n",
       "<style scoped>\n",
       "    .dataframe tbody tr th:only-of-type {\n",
       "        vertical-align: middle;\n",
       "    }\n",
       "\n",
       "    .dataframe tbody tr th {\n",
       "        vertical-align: top;\n",
       "    }\n",
       "\n",
       "    .dataframe thead th {\n",
       "        text-align: right;\n",
       "    }\n",
       "</style>\n",
       "<table border=\"1\" class=\"dataframe\">\n",
       "  <thead>\n",
       "    <tr style=\"text-align: right;\">\n",
       "      <th></th>\n",
       "      <th>num_people</th>\n",
       "      <th>avg_height</th>\n",
       "      <th>tallest</th>\n",
       "      <th>shortest</th>\n",
       "    </tr>\n",
       "    <tr>\n",
       "      <th>born_country</th>\n",
       "      <th></th>\n",
       "      <th></th>\n",
       "      <th></th>\n",
       "      <th></th>\n",
       "    </tr>\n",
       "  </thead>\n",
       "  <tbody>\n",
       "    <tr>\n",
       "      <th>AFG</th>\n",
       "      <td>25</td>\n",
       "      <td>170.416667</td>\n",
       "      <td>183.0</td>\n",
       "      <td>160.0</td>\n",
       "    </tr>\n",
       "    <tr>\n",
       "      <th>AGU</th>\n",
       "      <td>2</td>\n",
       "      <td>186.000000</td>\n",
       "      <td>186.0</td>\n",
       "      <td>186.0</td>\n",
       "    </tr>\n",
       "    <tr>\n",
       "      <th>ALB</th>\n",
       "      <td>45</td>\n",
       "      <td>174.657895</td>\n",
       "      <td>195.0</td>\n",
       "      <td>159.0</td>\n",
       "    </tr>\n",
       "    <tr>\n",
       "      <th>ALG</th>\n",
       "      <td>177</td>\n",
       "      <td>176.489362</td>\n",
       "      <td>196.0</td>\n",
       "      <td>155.0</td>\n",
       "    </tr>\n",
       "    <tr>\n",
       "      <th>AND</th>\n",
       "      <td>37</td>\n",
       "      <td>172.096774</td>\n",
       "      <td>185.0</td>\n",
       "      <td>160.0</td>\n",
       "    </tr>\n",
       "    <tr>\n",
       "      <th>...</th>\n",
       "      <td>...</td>\n",
       "      <td>...</td>\n",
       "      <td>...</td>\n",
       "      <td>...</td>\n",
       "    </tr>\n",
       "    <tr>\n",
       "      <th>VIN</th>\n",
       "      <td>8</td>\n",
       "      <td>181.200000</td>\n",
       "      <td>187.0</td>\n",
       "      <td>173.0</td>\n",
       "    </tr>\n",
       "    <tr>\n",
       "      <th>Vienna</th>\n",
       "      <td>11</td>\n",
       "      <td>171.000000</td>\n",
       "      <td>183.0</td>\n",
       "      <td>164.0</td>\n",
       "    </tr>\n",
       "    <tr>\n",
       "      <th>YEM</th>\n",
       "      <td>4</td>\n",
       "      <td>169.000000</td>\n",
       "      <td>175.0</td>\n",
       "      <td>160.0</td>\n",
       "    </tr>\n",
       "    <tr>\n",
       "      <th>ZAM</th>\n",
       "      <td>64</td>\n",
       "      <td>173.192308</td>\n",
       "      <td>191.0</td>\n",
       "      <td>145.0</td>\n",
       "    </tr>\n",
       "    <tr>\n",
       "      <th>ZIM</th>\n",
       "      <td>107</td>\n",
       "      <td>173.540000</td>\n",
       "      <td>205.0</td>\n",
       "      <td>155.0</td>\n",
       "    </tr>\n",
       "  </tbody>\n",
       "</table>\n",
       "<p>236 rows × 4 columns</p>\n",
       "</div>"
      ]
     },
     "execution_count": 153,
     "metadata": {},
     "output_type": "execute_result"
    }
   ],
   "execution_count": 153
  },
  {
   "metadata": {
    "ExecuteTime": {
     "end_time": "2025-10-11T13:30:55.618285Z",
     "start_time": "2025-10-11T13:30:55.593569Z"
    }
   },
   "cell_type": "code",
   "source": [
    "# Top 10 countries with highest average height\n",
    "bios.groupby('born_country')['height_cm'].mean().sort_values(ascending=False).head(10)\n"
   ],
   "id": "38f7804180110258",
   "outputs": [
    {
     "data": {
      "text/plain": [
       "born_country\n",
       "Milde       196.500000\n",
       "Prignitz    194.000000\n",
       "GIB         191.000000\n",
       "AGU         186.000000\n",
       "MNE         185.982456\n",
       "Cologne     184.500000\n",
       "TGA         184.500000\n",
       "SRB         184.397206\n",
       "BIH         184.272251\n",
       "STP         184.250000\n",
       "Name: height_cm, dtype: float64"
      ]
     },
     "execution_count": 154,
     "metadata": {},
     "output_type": "execute_result"
    }
   ],
   "execution_count": 154
  },
  {
   "metadata": {
    "ExecuteTime": {
     "end_time": "2025-10-11T13:35:21.859418Z",
     "start_time": "2025-10-11T13:35:21.822193Z"
    }
   },
   "cell_type": "code",
   "source": [
    "# Ensure born_country is a column\n",
    "if 'born_country' not in bios.columns:\n",
    "    bios = bios.reset_index()\n",
    "\n",
    "# Make sure height_cm is numeric\n",
    "bios['height_cm'] = pd.to_numeric(bios['height_cm'], errors='coerce')\n",
    "\n",
    "idx = bios.groupby('born_country')['height_cm'].idxmax()\n",
    "idx = idx.dropna().astype(int)   # remove groups where max is NaN\n",
    "\n",
    "out = bios.loc[idx, ['born_country', 'name', 'height_cm']].sort_values('born_country')\n",
    "print(out)\n"
   ],
   "id": "22bbe4185312a653",
   "outputs": [
    {
     "name": "stdout",
     "output_type": "stream",
     "text": [
      "       born_country             name  height_cm\n",
      "116031          AFG  Rohullah Nikpai      183.0\n",
      "68457           AGU     Keith Connor      186.0\n",
      "108191          ALB     Donald Suxho      195.0\n",
      "129661          ALG      Farid Chaal      196.0\n",
      "118038          AND      Lluís Marín      185.0\n",
      "...             ...              ...        ...\n",
      "78733           VIN    Eswort Coombs      187.0\n",
      "64422        Vienna    Emil Janausch      183.0\n",
      "118969          YEM   Nabil Al-Garbi      175.0\n",
      "117184          ZAM      Henry Nwume      191.0\n",
      "102452          ZIM    Brendan Ashby      205.0\n",
      "\n",
      "[230 rows x 3 columns]\n"
     ]
    }
   ],
   "execution_count": 157
  }
 ],
 "metadata": {
  "kernelspec": {
   "display_name": "Python 3",
   "language": "python",
   "name": "python3"
  },
  "language_info": {
   "codemirror_mode": {
    "name": "ipython",
    "version": 2
   },
   "file_extension": ".py",
   "mimetype": "text/x-python",
   "name": "python",
   "nbconvert_exporter": "python",
   "pygments_lexer": "ipython2",
   "version": "2.7.6"
  }
 },
 "nbformat": 4,
 "nbformat_minor": 5
}
